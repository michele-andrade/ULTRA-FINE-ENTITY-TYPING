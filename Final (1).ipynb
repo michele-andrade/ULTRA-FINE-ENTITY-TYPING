{
  "cells": [
    {
      "cell_type": "markdown",
      "metadata": {
        "id": "xfNT-mlFwxVM"
      },
      "source": [
        "# Importando bibliotecas e preparando o ambiente"
      ]
    },
    {
      "cell_type": "markdown",
      "metadata": {
        "id": "zZUs8DmSrYcH"
      },
      "source": [
        "Importando as bibliotecas"
      ]
    },
    {
      "cell_type": "code",
      "execution_count": null,
      "metadata": {
        "id": "YfIk2es3hJEd"
      },
      "outputs": [],
      "source": [
        "import matplotlib.pyplot as plt\n",
        "import numpy as np\n",
        "import pandas as pd\n",
        "import seaborn as sns\n",
        "import tensorflow as tf\n",
        "import random\n",
        "\n",
        "from sklearn.model_selection import train_test_split\n",
        "from sklearn.preprocessing import LabelEncoder\n",
        "from sklearn.metrics import classification_report, confusion_matrix\n",
        "from tensorflow.keras.preprocessing.text import Tokenizer\n",
        "from tensorflow.keras.preprocessing.sequence import pad_sequences\n",
        "from tensorflow.keras.models import Sequential\n",
        "from tensorflow.keras.layers import Dense, Embedding, Flatten, GRU, LSTM, Bidirectional"
      ]
    },
    {
      "cell_type": "markdown",
      "metadata": {
        "id": "6zvESPbCrL1w"
      },
      "source": [
        "Montando o seu drive no colab."
      ]
    },
    {
      "cell_type": "code",
      "execution_count": null,
      "metadata": {
        "colab": {
          "base_uri": "https://localhost:8080/"
        },
        "id": "K9s_SDZPrQpi",
        "outputId": "2a0fe55c-a311-4531-a903-7dc1a326b5bb"
      },
      "outputs": [
        {
          "name": "stdout",
          "output_type": "stream",
          "text": [
            "Mounted at /content/drive\n"
          ]
        }
      ],
      "source": [
        "from google.colab import drive\n",
        "drive.mount('/content/drive')"
      ]
    },
    {
      "cell_type": "code",
      "execution_count": null,
      "metadata": {
        "id": "3d20Co5zrbjT"
      },
      "outputs": [],
      "source": [
        "dados_train = pd.read_json('/content/drive/MyDrive/Colab Notebooks/LITE/data/processed_data/train_processed.json', lines=True)\n",
        "\n",
        "dados_teste = pd.read_json('/content/drive/MyDrive/Colab Notebooks/LITE/data/processed_data/test_processed.json', lines=True)"
      ]
    },
    {
      "cell_type": "code",
      "execution_count": null,
      "metadata": {
        "id": "WWr5wpsAnHgJ"
      },
      "outputs": [],
      "source": [
        "df_types = pd.read_csv('/content/drive/MyDrive/Colab Notebooks/LITE/data/processed_data/types.txt', on_bad_lines='skip')"
      ]
    },
    {
      "cell_type": "markdown",
      "metadata": {
        "id": "NmAk5vv08p8A"
      },
      "source": [
        "Primeira coisa é fixar as sementes para garantir a reproducibilidade dos resultados"
      ]
    },
    {
      "cell_type": "code",
      "execution_count": null,
      "metadata": {
        "id": "9SY3sF-K8jqI"
      },
      "outputs": [],
      "source": [
        "np.random.seed(94)\n",
        "tf.random.set_seed(94)"
      ]
    },
    {
      "cell_type": "markdown",
      "metadata": {
        "id": "glzRZT3brgmT"
      },
      "source": [
        "Mostrar as primeiras linhas do DataFrame"
      ]
    },
    {
      "cell_type": "code",
      "execution_count": null,
      "metadata": {
        "colab": {
          "base_uri": "https://localhost:8080/",
          "height": 175
        },
        "id": "BWpYShMqrkEL",
        "outputId": "55283a36-a55c-4311-9aa7-d2f943e4cfb8"
      },
      "outputs": [
        {
          "data": {
            "text/html": [
              "\n",
              "  <div id=\"df-c7c45653-620e-4172-a349-18d295c139e1\" class=\"colab-df-container\">\n",
              "    <div>\n",
              "<style scoped>\n",
              "    .dataframe tbody tr th:only-of-type {\n",
              "        vertical-align: middle;\n",
              "    }\n",
              "\n",
              "    .dataframe tbody tr th {\n",
              "        vertical-align: top;\n",
              "    }\n",
              "\n",
              "    .dataframe thead th {\n",
              "        text-align: right;\n",
              "    }\n",
              "</style>\n",
              "<table border=\"1\" class=\"dataframe\">\n",
              "  <thead>\n",
              "    <tr style=\"text-align: right;\">\n",
              "      <th></th>\n",
              "      <th>premise</th>\n",
              "      <th>entity</th>\n",
              "      <th>annotation</th>\n",
              "      <th>id</th>\n",
              "    </tr>\n",
              "  </thead>\n",
              "  <tbody>\n",
              "    <tr>\n",
              "      <th>0</th>\n",
              "      <td>The British Information Commissioner 's Office...</td>\n",
              "      <td>Web users</td>\n",
              "      <td>[citizen, person, user]</td>\n",
              "      <td>train0000</td>\n",
              "    </tr>\n",
              "    <tr>\n",
              "      <th>1</th>\n",
              "      <td>Tushar Gandhi said the Australian - born tycoo...</td>\n",
              "      <td>he</td>\n",
              "      <td>[criminal, entrepreneur, businessperson, busin...</td>\n",
              "      <td>train0001</td>\n",
              "    </tr>\n",
              "    <tr>\n",
              "      <th>2</th>\n",
              "      <td>They hope to find out before the annual monsoo...</td>\n",
              "      <td>They</td>\n",
              "      <td>[expert, scholar, scientist, person]</td>\n",
              "      <td>train0002</td>\n",
              "    </tr>\n",
              "    <tr>\n",
              "      <th>3</th>\n",
              "      <td>A set of bills in the House and Senate would ,...</td>\n",
              "      <td>USPS</td>\n",
              "      <td>[administration, system, business, organization]</td>\n",
              "      <td>train0003</td>\n",
              "    </tr>\n",
              "  </tbody>\n",
              "</table>\n",
              "</div>\n",
              "    <div class=\"colab-df-buttons\">\n",
              "\n",
              "  <div class=\"colab-df-container\">\n",
              "    <button class=\"colab-df-convert\" onclick=\"convertToInteractive('df-c7c45653-620e-4172-a349-18d295c139e1')\"\n",
              "            title=\"Convert this dataframe to an interactive table.\"\n",
              "            style=\"display:none;\">\n",
              "\n",
              "  <svg xmlns=\"http://www.w3.org/2000/svg\" height=\"24px\" viewBox=\"0 -960 960 960\">\n",
              "    <path d=\"M120-120v-720h720v720H120Zm60-500h600v-160H180v160Zm220 220h160v-160H400v160Zm0 220h160v-160H400v160ZM180-400h160v-160H180v160Zm440 0h160v-160H620v160ZM180-180h160v-160H180v160Zm440 0h160v-160H620v160Z\"/>\n",
              "  </svg>\n",
              "    </button>\n",
              "\n",
              "  <style>\n",
              "    .colab-df-container {\n",
              "      display:flex;\n",
              "      gap: 12px;\n",
              "    }\n",
              "\n",
              "    .colab-df-convert {\n",
              "      background-color: #E8F0FE;\n",
              "      border: none;\n",
              "      border-radius: 50%;\n",
              "      cursor: pointer;\n",
              "      display: none;\n",
              "      fill: #1967D2;\n",
              "      height: 32px;\n",
              "      padding: 0 0 0 0;\n",
              "      width: 32px;\n",
              "    }\n",
              "\n",
              "    .colab-df-convert:hover {\n",
              "      background-color: #E2EBFA;\n",
              "      box-shadow: 0px 1px 2px rgba(60, 64, 67, 0.3), 0px 1px 3px 1px rgba(60, 64, 67, 0.15);\n",
              "      fill: #174EA6;\n",
              "    }\n",
              "\n",
              "    .colab-df-buttons div {\n",
              "      margin-bottom: 4px;\n",
              "    }\n",
              "\n",
              "    [theme=dark] .colab-df-convert {\n",
              "      background-color: #3B4455;\n",
              "      fill: #D2E3FC;\n",
              "    }\n",
              "\n",
              "    [theme=dark] .colab-df-convert:hover {\n",
              "      background-color: #434B5C;\n",
              "      box-shadow: 0px 1px 3px 1px rgba(0, 0, 0, 0.15);\n",
              "      filter: drop-shadow(0px 1px 2px rgba(0, 0, 0, 0.3));\n",
              "      fill: #FFFFFF;\n",
              "    }\n",
              "  </style>\n",
              "\n",
              "    <script>\n",
              "      const buttonEl =\n",
              "        document.querySelector('#df-c7c45653-620e-4172-a349-18d295c139e1 button.colab-df-convert');\n",
              "      buttonEl.style.display =\n",
              "        google.colab.kernel.accessAllowed ? 'block' : 'none';\n",
              "\n",
              "      async function convertToInteractive(key) {\n",
              "        const element = document.querySelector('#df-c7c45653-620e-4172-a349-18d295c139e1');\n",
              "        const dataTable =\n",
              "          await google.colab.kernel.invokeFunction('convertToInteractive',\n",
              "                                                    [key], {});\n",
              "        if (!dataTable) return;\n",
              "\n",
              "        const docLinkHtml = 'Like what you see? Visit the ' +\n",
              "          '<a target=\"_blank\" href=https://colab.research.google.com/notebooks/data_table.ipynb>data table notebook</a>'\n",
              "          + ' to learn more about interactive tables.';\n",
              "        element.innerHTML = '';\n",
              "        dataTable['output_type'] = 'display_data';\n",
              "        await google.colab.output.renderOutput(dataTable, element);\n",
              "        const docLink = document.createElement('div');\n",
              "        docLink.innerHTML = docLinkHtml;\n",
              "        element.appendChild(docLink);\n",
              "      }\n",
              "    </script>\n",
              "  </div>\n",
              "\n",
              "\n",
              "<div id=\"df-aa846ead-4cb1-4b6b-8aaa-2d7927a9443f\">\n",
              "  <button class=\"colab-df-quickchart\" onclick=\"quickchart('df-aa846ead-4cb1-4b6b-8aaa-2d7927a9443f')\"\n",
              "            title=\"Suggest charts\"\n",
              "            style=\"display:none;\">\n",
              "\n",
              "<svg xmlns=\"http://www.w3.org/2000/svg\" height=\"24px\"viewBox=\"0 0 24 24\"\n",
              "     width=\"24px\">\n",
              "    <g>\n",
              "        <path d=\"M19 3H5c-1.1 0-2 .9-2 2v14c0 1.1.9 2 2 2h14c1.1 0 2-.9 2-2V5c0-1.1-.9-2-2-2zM9 17H7v-7h2v7zm4 0h-2V7h2v10zm4 0h-2v-4h2v4z\"/>\n",
              "    </g>\n",
              "</svg>\n",
              "  </button>\n",
              "\n",
              "<style>\n",
              "  .colab-df-quickchart {\n",
              "      --bg-color: #E8F0FE;\n",
              "      --fill-color: #1967D2;\n",
              "      --hover-bg-color: #E2EBFA;\n",
              "      --hover-fill-color: #174EA6;\n",
              "      --disabled-fill-color: #AAA;\n",
              "      --disabled-bg-color: #DDD;\n",
              "  }\n",
              "\n",
              "  [theme=dark] .colab-df-quickchart {\n",
              "      --bg-color: #3B4455;\n",
              "      --fill-color: #D2E3FC;\n",
              "      --hover-bg-color: #434B5C;\n",
              "      --hover-fill-color: #FFFFFF;\n",
              "      --disabled-bg-color: #3B4455;\n",
              "      --disabled-fill-color: #666;\n",
              "  }\n",
              "\n",
              "  .colab-df-quickchart {\n",
              "    background-color: var(--bg-color);\n",
              "    border: none;\n",
              "    border-radius: 50%;\n",
              "    cursor: pointer;\n",
              "    display: none;\n",
              "    fill: var(--fill-color);\n",
              "    height: 32px;\n",
              "    padding: 0;\n",
              "    width: 32px;\n",
              "  }\n",
              "\n",
              "  .colab-df-quickchart:hover {\n",
              "    background-color: var(--hover-bg-color);\n",
              "    box-shadow: 0 1px 2px rgba(60, 64, 67, 0.3), 0 1px 3px 1px rgba(60, 64, 67, 0.15);\n",
              "    fill: var(--button-hover-fill-color);\n",
              "  }\n",
              "\n",
              "  .colab-df-quickchart-complete:disabled,\n",
              "  .colab-df-quickchart-complete:disabled:hover {\n",
              "    background-color: var(--disabled-bg-color);\n",
              "    fill: var(--disabled-fill-color);\n",
              "    box-shadow: none;\n",
              "  }\n",
              "\n",
              "  .colab-df-spinner {\n",
              "    border: 2px solid var(--fill-color);\n",
              "    border-color: transparent;\n",
              "    border-bottom-color: var(--fill-color);\n",
              "    animation:\n",
              "      spin 1s steps(1) infinite;\n",
              "  }\n",
              "\n",
              "  @keyframes spin {\n",
              "    0% {\n",
              "      border-color: transparent;\n",
              "      border-bottom-color: var(--fill-color);\n",
              "      border-left-color: var(--fill-color);\n",
              "    }\n",
              "    20% {\n",
              "      border-color: transparent;\n",
              "      border-left-color: var(--fill-color);\n",
              "      border-top-color: var(--fill-color);\n",
              "    }\n",
              "    30% {\n",
              "      border-color: transparent;\n",
              "      border-left-color: var(--fill-color);\n",
              "      border-top-color: var(--fill-color);\n",
              "      border-right-color: var(--fill-color);\n",
              "    }\n",
              "    40% {\n",
              "      border-color: transparent;\n",
              "      border-right-color: var(--fill-color);\n",
              "      border-top-color: var(--fill-color);\n",
              "    }\n",
              "    60% {\n",
              "      border-color: transparent;\n",
              "      border-right-color: var(--fill-color);\n",
              "    }\n",
              "    80% {\n",
              "      border-color: transparent;\n",
              "      border-right-color: var(--fill-color);\n",
              "      border-bottom-color: var(--fill-color);\n",
              "    }\n",
              "    90% {\n",
              "      border-color: transparent;\n",
              "      border-bottom-color: var(--fill-color);\n",
              "    }\n",
              "  }\n",
              "</style>\n",
              "\n",
              "  <script>\n",
              "    async function quickchart(key) {\n",
              "      const quickchartButtonEl =\n",
              "        document.querySelector('#' + key + ' button');\n",
              "      quickchartButtonEl.disabled = true;  // To prevent multiple clicks.\n",
              "      quickchartButtonEl.classList.add('colab-df-spinner');\n",
              "      try {\n",
              "        const charts = await google.colab.kernel.invokeFunction(\n",
              "            'suggestCharts', [key], {});\n",
              "      } catch (error) {\n",
              "        console.error('Error during call to suggestCharts:', error);\n",
              "      }\n",
              "      quickchartButtonEl.classList.remove('colab-df-spinner');\n",
              "      quickchartButtonEl.classList.add('colab-df-quickchart-complete');\n",
              "    }\n",
              "    (() => {\n",
              "      let quickchartButtonEl =\n",
              "        document.querySelector('#df-aa846ead-4cb1-4b6b-8aaa-2d7927a9443f button');\n",
              "      quickchartButtonEl.style.display =\n",
              "        google.colab.kernel.accessAllowed ? 'block' : 'none';\n",
              "    })();\n",
              "  </script>\n",
              "</div>\n",
              "    </div>\n",
              "  </div>\n"
            ],
            "text/plain": [
              "                                             premise     entity  \\\n",
              "0  The British Information Commissioner 's Office...  Web users   \n",
              "1  Tushar Gandhi said the Australian - born tycoo...         he   \n",
              "2  They hope to find out before the annual monsoo...       They   \n",
              "3  A set of bills in the House and Senate would ,...       USPS   \n",
              "\n",
              "                                          annotation         id  \n",
              "0                            [citizen, person, user]  train0000  \n",
              "1  [criminal, entrepreneur, businessperson, busin...  train0001  \n",
              "2               [expert, scholar, scientist, person]  train0002  \n",
              "3   [administration, system, business, organization]  train0003  "
            ]
          },
          "execution_count": 6,
          "metadata": {},
          "output_type": "execute_result"
        }
      ],
      "source": [
        "dados_train.head(4)"
      ]
    },
    {
      "cell_type": "markdown",
      "metadata": {
        "id": "639c8YccrspA"
      },
      "source": [
        "## Pré-processando os dados"
      ]
    },
    {
      "cell_type": "code",
      "execution_count": null,
      "metadata": {
        "id": "MN0SLzlOgROC"
      },
      "outputs": [],
      "source": [
        "# Criando um DataFrame para as linhas que terão positiva\n",
        "df_train = pd.DataFrame(columns=['context', 'class'])\n",
        "df_test = pd.DataFrame(columns=['context', 'class'])"
      ]
    },
    {
      "cell_type": "code",
      "execution_count": null,
      "metadata": {
        "id": "SMSpPw9slPaW"
      },
      "outputs": [],
      "source": [
        "# Criando uma nova linha para cada anotação com os mesmos dados\n",
        "df_train_exploded = dados_train.explode('annotation').reset_index(drop=True)\n",
        "df_test_exploded = dados_teste.explode('annotation').reset_index(drop=True)"
      ]
    },
    {
      "cell_type": "code",
      "execution_count": null,
      "metadata": {
        "id": "YURArHxXg9Xm"
      },
      "outputs": [],
      "source": [
        "# Função para processar cada linha do DataFrame\n",
        "def process_row(row):\n",
        "    premise = row['premise'].rstrip(' .')\n",
        "    entity = row['entity']\n",
        "    annotation = row['annotation']\n",
        "    return f\"{premise}. {entity} is {annotation}.\""
      ]
    },
    {
      "cell_type": "code",
      "execution_count": null,
      "metadata": {
        "id": "KIhAzH7QhU71"
      },
      "outputs": [],
      "source": [
        "# Aplicando a função a cada linha do DataFrame\n",
        "df_train['context'] = df_train_exploded.apply(process_row, axis=1)\n",
        "df_test['context'] = df_test_exploded.apply(process_row, axis=1)"
      ]
    },
    {
      "cell_type": "code",
      "execution_count": null,
      "metadata": {
        "id": "wGt6Nh0wm0QG"
      },
      "outputs": [],
      "source": [
        "# Indicando que o contexto é verdadeiro\n",
        "df_train['class'] = 1\n",
        "df_test['class'] = 1"
      ]
    },
    {
      "cell_type": "code",
      "execution_count": null,
      "metadata": {
        "colab": {
          "base_uri": "https://localhost:8080/",
          "height": 143
        },
        "id": "CJZgCKU5y7jd",
        "outputId": "0a3bc6f3-d417-49ba-9404-4d5d04ad159a"
      },
      "outputs": [
        {
          "data": {
            "text/html": [
              "\n",
              "  <div id=\"df-5f24fa33-3f79-47dc-9baf-437b21fdc216\" class=\"colab-df-container\">\n",
              "    <div>\n",
              "<style scoped>\n",
              "    .dataframe tbody tr th:only-of-type {\n",
              "        vertical-align: middle;\n",
              "    }\n",
              "\n",
              "    .dataframe tbody tr th {\n",
              "        vertical-align: top;\n",
              "    }\n",
              "\n",
              "    .dataframe thead th {\n",
              "        text-align: right;\n",
              "    }\n",
              "</style>\n",
              "<table border=\"1\" class=\"dataframe\">\n",
              "  <thead>\n",
              "    <tr style=\"text-align: right;\">\n",
              "      <th></th>\n",
              "      <th>context</th>\n",
              "      <th>class</th>\n",
              "    </tr>\n",
              "  </thead>\n",
              "  <tbody>\n",
              "    <tr>\n",
              "      <th>0</th>\n",
              "      <td>The British Information Commissioner 's Office...</td>\n",
              "      <td>1</td>\n",
              "    </tr>\n",
              "    <tr>\n",
              "      <th>1</th>\n",
              "      <td>The British Information Commissioner 's Office...</td>\n",
              "      <td>1</td>\n",
              "    </tr>\n",
              "    <tr>\n",
              "      <th>2</th>\n",
              "      <td>The British Information Commissioner 's Office...</td>\n",
              "      <td>1</td>\n",
              "    </tr>\n",
              "  </tbody>\n",
              "</table>\n",
              "</div>\n",
              "    <div class=\"colab-df-buttons\">\n",
              "\n",
              "  <div class=\"colab-df-container\">\n",
              "    <button class=\"colab-df-convert\" onclick=\"convertToInteractive('df-5f24fa33-3f79-47dc-9baf-437b21fdc216')\"\n",
              "            title=\"Convert this dataframe to an interactive table.\"\n",
              "            style=\"display:none;\">\n",
              "\n",
              "  <svg xmlns=\"http://www.w3.org/2000/svg\" height=\"24px\" viewBox=\"0 -960 960 960\">\n",
              "    <path d=\"M120-120v-720h720v720H120Zm60-500h600v-160H180v160Zm220 220h160v-160H400v160Zm0 220h160v-160H400v160ZM180-400h160v-160H180v160Zm440 0h160v-160H620v160ZM180-180h160v-160H180v160Zm440 0h160v-160H620v160Z\"/>\n",
              "  </svg>\n",
              "    </button>\n",
              "\n",
              "  <style>\n",
              "    .colab-df-container {\n",
              "      display:flex;\n",
              "      gap: 12px;\n",
              "    }\n",
              "\n",
              "    .colab-df-convert {\n",
              "      background-color: #E8F0FE;\n",
              "      border: none;\n",
              "      border-radius: 50%;\n",
              "      cursor: pointer;\n",
              "      display: none;\n",
              "      fill: #1967D2;\n",
              "      height: 32px;\n",
              "      padding: 0 0 0 0;\n",
              "      width: 32px;\n",
              "    }\n",
              "\n",
              "    .colab-df-convert:hover {\n",
              "      background-color: #E2EBFA;\n",
              "      box-shadow: 0px 1px 2px rgba(60, 64, 67, 0.3), 0px 1px 3px 1px rgba(60, 64, 67, 0.15);\n",
              "      fill: #174EA6;\n",
              "    }\n",
              "\n",
              "    .colab-df-buttons div {\n",
              "      margin-bottom: 4px;\n",
              "    }\n",
              "\n",
              "    [theme=dark] .colab-df-convert {\n",
              "      background-color: #3B4455;\n",
              "      fill: #D2E3FC;\n",
              "    }\n",
              "\n",
              "    [theme=dark] .colab-df-convert:hover {\n",
              "      background-color: #434B5C;\n",
              "      box-shadow: 0px 1px 3px 1px rgba(0, 0, 0, 0.15);\n",
              "      filter: drop-shadow(0px 1px 2px rgba(0, 0, 0, 0.3));\n",
              "      fill: #FFFFFF;\n",
              "    }\n",
              "  </style>\n",
              "\n",
              "    <script>\n",
              "      const buttonEl =\n",
              "        document.querySelector('#df-5f24fa33-3f79-47dc-9baf-437b21fdc216 button.colab-df-convert');\n",
              "      buttonEl.style.display =\n",
              "        google.colab.kernel.accessAllowed ? 'block' : 'none';\n",
              "\n",
              "      async function convertToInteractive(key) {\n",
              "        const element = document.querySelector('#df-5f24fa33-3f79-47dc-9baf-437b21fdc216');\n",
              "        const dataTable =\n",
              "          await google.colab.kernel.invokeFunction('convertToInteractive',\n",
              "                                                    [key], {});\n",
              "        if (!dataTable) return;\n",
              "\n",
              "        const docLinkHtml = 'Like what you see? Visit the ' +\n",
              "          '<a target=\"_blank\" href=https://colab.research.google.com/notebooks/data_table.ipynb>data table notebook</a>'\n",
              "          + ' to learn more about interactive tables.';\n",
              "        element.innerHTML = '';\n",
              "        dataTable['output_type'] = 'display_data';\n",
              "        await google.colab.output.renderOutput(dataTable, element);\n",
              "        const docLink = document.createElement('div');\n",
              "        docLink.innerHTML = docLinkHtml;\n",
              "        element.appendChild(docLink);\n",
              "      }\n",
              "    </script>\n",
              "  </div>\n",
              "\n",
              "\n",
              "<div id=\"df-190c91f3-05fd-4b0f-89dc-4f15e26c627c\">\n",
              "  <button class=\"colab-df-quickchart\" onclick=\"quickchart('df-190c91f3-05fd-4b0f-89dc-4f15e26c627c')\"\n",
              "            title=\"Suggest charts\"\n",
              "            style=\"display:none;\">\n",
              "\n",
              "<svg xmlns=\"http://www.w3.org/2000/svg\" height=\"24px\"viewBox=\"0 0 24 24\"\n",
              "     width=\"24px\">\n",
              "    <g>\n",
              "        <path d=\"M19 3H5c-1.1 0-2 .9-2 2v14c0 1.1.9 2 2 2h14c1.1 0 2-.9 2-2V5c0-1.1-.9-2-2-2zM9 17H7v-7h2v7zm4 0h-2V7h2v10zm4 0h-2v-4h2v4z\"/>\n",
              "    </g>\n",
              "</svg>\n",
              "  </button>\n",
              "\n",
              "<style>\n",
              "  .colab-df-quickchart {\n",
              "      --bg-color: #E8F0FE;\n",
              "      --fill-color: #1967D2;\n",
              "      --hover-bg-color: #E2EBFA;\n",
              "      --hover-fill-color: #174EA6;\n",
              "      --disabled-fill-color: #AAA;\n",
              "      --disabled-bg-color: #DDD;\n",
              "  }\n",
              "\n",
              "  [theme=dark] .colab-df-quickchart {\n",
              "      --bg-color: #3B4455;\n",
              "      --fill-color: #D2E3FC;\n",
              "      --hover-bg-color: #434B5C;\n",
              "      --hover-fill-color: #FFFFFF;\n",
              "      --disabled-bg-color: #3B4455;\n",
              "      --disabled-fill-color: #666;\n",
              "  }\n",
              "\n",
              "  .colab-df-quickchart {\n",
              "    background-color: var(--bg-color);\n",
              "    border: none;\n",
              "    border-radius: 50%;\n",
              "    cursor: pointer;\n",
              "    display: none;\n",
              "    fill: var(--fill-color);\n",
              "    height: 32px;\n",
              "    padding: 0;\n",
              "    width: 32px;\n",
              "  }\n",
              "\n",
              "  .colab-df-quickchart:hover {\n",
              "    background-color: var(--hover-bg-color);\n",
              "    box-shadow: 0 1px 2px rgba(60, 64, 67, 0.3), 0 1px 3px 1px rgba(60, 64, 67, 0.15);\n",
              "    fill: var(--button-hover-fill-color);\n",
              "  }\n",
              "\n",
              "  .colab-df-quickchart-complete:disabled,\n",
              "  .colab-df-quickchart-complete:disabled:hover {\n",
              "    background-color: var(--disabled-bg-color);\n",
              "    fill: var(--disabled-fill-color);\n",
              "    box-shadow: none;\n",
              "  }\n",
              "\n",
              "  .colab-df-spinner {\n",
              "    border: 2px solid var(--fill-color);\n",
              "    border-color: transparent;\n",
              "    border-bottom-color: var(--fill-color);\n",
              "    animation:\n",
              "      spin 1s steps(1) infinite;\n",
              "  }\n",
              "\n",
              "  @keyframes spin {\n",
              "    0% {\n",
              "      border-color: transparent;\n",
              "      border-bottom-color: var(--fill-color);\n",
              "      border-left-color: var(--fill-color);\n",
              "    }\n",
              "    20% {\n",
              "      border-color: transparent;\n",
              "      border-left-color: var(--fill-color);\n",
              "      border-top-color: var(--fill-color);\n",
              "    }\n",
              "    30% {\n",
              "      border-color: transparent;\n",
              "      border-left-color: var(--fill-color);\n",
              "      border-top-color: var(--fill-color);\n",
              "      border-right-color: var(--fill-color);\n",
              "    }\n",
              "    40% {\n",
              "      border-color: transparent;\n",
              "      border-right-color: var(--fill-color);\n",
              "      border-top-color: var(--fill-color);\n",
              "    }\n",
              "    60% {\n",
              "      border-color: transparent;\n",
              "      border-right-color: var(--fill-color);\n",
              "    }\n",
              "    80% {\n",
              "      border-color: transparent;\n",
              "      border-right-color: var(--fill-color);\n",
              "      border-bottom-color: var(--fill-color);\n",
              "    }\n",
              "    90% {\n",
              "      border-color: transparent;\n",
              "      border-bottom-color: var(--fill-color);\n",
              "    }\n",
              "  }\n",
              "</style>\n",
              "\n",
              "  <script>\n",
              "    async function quickchart(key) {\n",
              "      const quickchartButtonEl =\n",
              "        document.querySelector('#' + key + ' button');\n",
              "      quickchartButtonEl.disabled = true;  // To prevent multiple clicks.\n",
              "      quickchartButtonEl.classList.add('colab-df-spinner');\n",
              "      try {\n",
              "        const charts = await google.colab.kernel.invokeFunction(\n",
              "            'suggestCharts', [key], {});\n",
              "      } catch (error) {\n",
              "        console.error('Error during call to suggestCharts:', error);\n",
              "      }\n",
              "      quickchartButtonEl.classList.remove('colab-df-spinner');\n",
              "      quickchartButtonEl.classList.add('colab-df-quickchart-complete');\n",
              "    }\n",
              "    (() => {\n",
              "      let quickchartButtonEl =\n",
              "        document.querySelector('#df-190c91f3-05fd-4b0f-89dc-4f15e26c627c button');\n",
              "      quickchartButtonEl.style.display =\n",
              "        google.colab.kernel.accessAllowed ? 'block' : 'none';\n",
              "    })();\n",
              "  </script>\n",
              "</div>\n",
              "    </div>\n",
              "  </div>\n"
            ],
            "text/plain": [
              "                                             context  class\n",
              "0  The British Information Commissioner 's Office...      1\n",
              "1  The British Information Commissioner 's Office...      1\n",
              "2  The British Information Commissioner 's Office...      1"
            ]
          },
          "execution_count": 12,
          "metadata": {},
          "output_type": "execute_result"
        }
      ],
      "source": [
        "df_train.head(3)"
      ]
    },
    {
      "cell_type": "code",
      "execution_count": null,
      "metadata": {
        "id": "FdJTh0rXoG0J"
      },
      "outputs": [],
      "source": [
        "# Retorna uma lista de tipos escolhidos aleatóriamente para a quantidade passada\n",
        "def generate_random_words():\n",
        "    number_to_select = random.randint(1, 10)\n",
        "    random_words = df_types.sample(n=number_to_select)['person'].tolist()\n",
        "\n",
        "    return random_words"
      ]
    },
    {
      "cell_type": "code",
      "execution_count": null,
      "metadata": {
        "id": "TdYh1KchrJko"
      },
      "outputs": [],
      "source": [
        "def generateNegLine(df_premise):\n",
        "  new_rows = []\n",
        "\n",
        "  for index, row in df_premise.iterrows():\n",
        "     random_words = generate_random_words()\n",
        "     new_rows.append(random_words)\n",
        "\n",
        "  return new_rows"
      ]
    },
    {
      "cell_type": "code",
      "execution_count": null,
      "metadata": {
        "id": "jqOfygv0rwDv"
      },
      "outputs": [],
      "source": [
        "dados_train_negative = dados_train.copy()\n",
        "dados_test_negative = dados_teste.copy()"
      ]
    },
    {
      "cell_type": "code",
      "execution_count": null,
      "metadata": {
        "id": "1jY6vYOtwLYG"
      },
      "outputs": [],
      "source": [
        "dados_train_negative[\"annotation\"] = generateNegLine(dados_train_negative)\n",
        "dados_test_negative[\"annotation\"] = generateNegLine(dados_test_negative)"
      ]
    },
    {
      "cell_type": "code",
      "execution_count": null,
      "metadata": {
        "id": "hU5EJwmxzPEM"
      },
      "outputs": [],
      "source": [
        "dados_train_negative_exploded = dados_train_negative.explode('annotation').reset_index(drop=True)\n",
        "dados_test_negative_exploded = dados_test_negative.explode('annotation').reset_index(drop=True)"
      ]
    },
    {
      "cell_type": "code",
      "execution_count": null,
      "metadata": {
        "id": "O6MabIROzwm-"
      },
      "outputs": [],
      "source": [
        "df_train_negative = pd.DataFrame(columns=['context', 'class'])\n",
        "df_test_negative = pd.DataFrame(columns=['context', 'class'])"
      ]
    },
    {
      "cell_type": "code",
      "execution_count": null,
      "metadata": {
        "id": "sYoSFmrzzYB1"
      },
      "outputs": [],
      "source": [
        "# Aplicando a função a cada linha do DataFrame\n",
        "df_train_negative['context'] = dados_train_negative_exploded.apply(process_row, axis=1)\n",
        "df_test_negative['context'] = dados_test_negative_exploded.apply(process_row, axis=1)"
      ]
    },
    {
      "cell_type": "code",
      "execution_count": null,
      "metadata": {
        "id": "Y-GMD8tD0WDG"
      },
      "outputs": [],
      "source": [
        "# Indicando que o contexto é falso\n",
        "df_train_negative['class'] = 0\n",
        "df_test_negative['class'] = 0"
      ]
    },
    {
      "cell_type": "code",
      "execution_count": null,
      "metadata": {
        "id": "NK7Rxwnz0qan"
      },
      "outputs": [],
      "source": [
        "# Concatenando os casos positivos e negativos\n",
        "train = pd.concat([df_train, df_train_negative], ignore_index=True)\n",
        "test = pd.concat([df_test, df_test_negative], ignore_index=True)"
      ]
    },
    {
      "cell_type": "code",
      "execution_count": null,
      "metadata": {
        "id": "A7zQtA3suny6"
      },
      "outputs": [],
      "source": [
        "# Embaralhando as linhas\n",
        "train = train.sample(frac=1, random_state=42).reset_index(drop=True)\n",
        "test = test.sample(frac=1, random_state=42).reset_index(drop=True)"
      ]
    },
    {
      "cell_type": "code",
      "execution_count": null,
      "metadata": {
        "colab": {
          "base_uri": "https://localhost:8080/"
        },
        "id": "MaTsetNi9Ftx",
        "outputId": "995465c1-66ea-429d-c735-485b497109db"
      },
      "outputs": [
        {
          "name": "stdout",
          "output_type": "stream",
          "text": [
            "Tamanho de dados treinamento positivos:  (10778, 2)\n",
            "Tamanho de dados treinamento negativos:  (10873, 2)\n",
            "Tamanho de dados treinamento total:  (21651, 2)\n",
            "Tamanho de dados teste positivos:  (10733, 2)\n",
            "Tamanho de dados teste negativos:  (10867, 2)\n",
            "Tamanho de dados teste total:  (21600, 2)\n"
          ]
        }
      ],
      "source": [
        "print('Tamanho de dados treinamento positivos: ', df_train.shape)\n",
        "print('Tamanho de dados treinamento negativos: ', df_train_negative.shape)\n",
        "print('Tamanho de dados treinamento total: ', train.shape)\n",
        "print('Tamanho de dados teste positivos: ', df_test.shape)\n",
        "print('Tamanho de dados teste negativos: ', df_test_negative.shape)\n",
        "print('Tamanho de dados teste total: ', test.shape)"
      ]
    },
    {
      "cell_type": "markdown",
      "metadata": {
        "id": "SXY0ZRm92FS9"
      },
      "source": [
        "# Preparando para treinar"
      ]
    },
    {
      "cell_type": "markdown",
      "metadata": {
        "id": "e9sVVCqcry7S"
      },
      "source": [
        "Selecionando colunas específicas"
      ]
    },
    {
      "cell_type": "code",
      "execution_count": null,
      "metadata": {
        "id": "hy9ItDlTr3t2"
      },
      "outputs": [],
      "source": [
        "X = train.iloc[:, 0] # Coluna dos dados pré-processados\n",
        "y = train.iloc[:, 1] # Coluna dos rótulos\n",
        "\n",
        "X_test = test.iloc[:, 0]  # Coluna dos dados pré-processados\n",
        "y_test = test.iloc[:, 1]  # Coluna dos rótulos"
      ]
    },
    {
      "cell_type": "markdown",
      "metadata": {
        "id": "25ZLJbuer5-p"
      },
      "source": [
        "Mostrar as primeiras linhas de cada coluna"
      ]
    },
    {
      "cell_type": "code",
      "execution_count": null,
      "metadata": {
        "colab": {
          "base_uri": "https://localhost:8080/"
        },
        "id": "kXN3tjeFsBJJ",
        "outputId": "a5ba71b4-cce7-4a29-97c5-df9efe494c29"
      },
      "outputs": [
        {
          "name": "stdout",
          "output_type": "stream",
          "text": [
            "\n",
            "Rótulos:\n",
            "0    1\n",
            "1    0\n",
            "2    1\n",
            "3    0\n",
            "4    0\n",
            "Name: class, dtype: int64\n",
            "\n",
            "Dados preprocessados:\n",
            "0    It 's not unusual for severely damaged trees l...\n",
            "1    `` We must have a restructuring proposal from ...\n",
            "2    Authorities have taken a series of measures re...\n",
            "3    Fanfiction.Net received a cease and desist ord...\n",
            "4    He said he expects the current $ 1 billion fun...\n",
            "Name: context, dtype: object\n"
          ]
        }
      ],
      "source": [
        "print(\"\\nRótulos:\")\n",
        "print(y.head())\n",
        "print(\"\\nDados preprocessados:\")\n",
        "print(X.head())"
      ]
    },
    {
      "cell_type": "markdown",
      "metadata": {
        "id": "l-38NPXysQsK"
      },
      "source": [
        "# Uma implementação ingênua para o problema"
      ]
    },
    {
      "cell_type": "markdown",
      "metadata": {
        "id": "Q8so71t8sXt5"
      },
      "source": [
        "Abaixo uma implementação ingênua para o problema. Ela é ingênua por que desconsidera a ordem das palavras no texto.\n",
        "Tente endendê-la e execute o treinamento."
      ]
    },
    {
      "cell_type": "markdown",
      "metadata": {
        "id": "S8YLG1rtu5eH"
      },
      "source": [
        "### Pré-processamento"
      ]
    },
    {
      "cell_type": "markdown",
      "metadata": {
        "id": "7Yb9t_e3u5Cx"
      },
      "source": [
        "Primeira coisa é fixar as sementes para garantir a reproducibilidade dos resultados"
      ]
    },
    {
      "cell_type": "markdown",
      "metadata": {
        "id": "S2HgX714siRi"
      },
      "source": [
        "Codificação dos rótulos para 0 e 1"
      ]
    },
    {
      "cell_type": "code",
      "execution_count": null,
      "metadata": {
        "id": "t6-1CCbzs4O3"
      },
      "outputs": [],
      "source": [
        "encoder = LabelEncoder()\n",
        "y = encoder.fit_transform(y)\n",
        "y_test = encoder.transform(y_test)"
      ]
    },
    {
      "cell_type": "markdown",
      "metadata": {
        "id": "7SBhO2mhs6OT"
      },
      "source": [
        "Tokenização e sequenciamento dos textos"
      ]
    },
    {
      "cell_type": "code",
      "execution_count": null,
      "metadata": {
        "id": "PFx2hGpbs8Vt"
      },
      "outputs": [],
      "source": [
        "max_length = 280  # Define o tamanho máximo das sequências\n",
        "vocab_size = 100000  # Define o tamanho do vocabulário\n",
        "\n",
        "tokenizer = Tokenizer(num_words=vocab_size, oov_token='<OOV>')\n",
        "tokenizer.fit_on_texts(X)\n",
        "# Tokenização e sequenciamento dos textos de treino\n",
        "sequences = tokenizer.texts_to_sequences(X)\n",
        "padded_sequences = pad_sequences(sequences, maxlen=max_length, padding='post', truncating='post')\n",
        "\n",
        "# Tokenização e sequenciamento dos textos de teste\n",
        "sequences_test = tokenizer.texts_to_sequences(X_test)\n",
        "padded_sequences_test = pad_sequences(sequences_test, maxlen=max_length, padding='post', truncating='post')"
      ]
    },
    {
      "cell_type": "markdown",
      "metadata": {
        "id": "bnfGLF3qs_y4"
      },
      "source": [
        "Divisão dos dados em conjuntos de treino e validação"
      ]
    },
    {
      "cell_type": "code",
      "execution_count": null,
      "metadata": {
        "id": "PPR9biautG0k"
      },
      "outputs": [],
      "source": [
        "X_train, X_val, y_train, y_val = train_test_split(padded_sequences, y, test_size=0.2, random_state=42)"
      ]
    },
    {
      "cell_type": "markdown",
      "metadata": {
        "id": "JRMzGa_9u9mu"
      },
      "source": [
        "### Definição e treinamento do modelo"
      ]
    },
    {
      "cell_type": "markdown",
      "metadata": {
        "id": "OjPXGGhMtJRD"
      },
      "source": [
        "Definição do modelo"
      ]
    },
    {
      "cell_type": "code",
      "execution_count": null,
      "metadata": {
        "id": "MgYdbH6rrq7q"
      },
      "outputs": [],
      "source": [
        "from tensorflow.keras import regularizers\n",
        "from tensorflow.keras.layers import Dropout"
      ]
    },
    {
      "cell_type": "code",
      "execution_count": null,
      "metadata": {
        "id": "3V8DAWEUtLVV"
      },
      "outputs": [],
      "source": [
        "embedding_dim = 16\n",
        "\n",
        "model = Sequential([\n",
        "    Embedding(vocab_size, embedding_dim, input_length=max_length),\n",
        "    Flatten(),\n",
        "    Dense(32, activation='relu'),\n",
        "    Dense(1, activation='sigmoid')\n",
        "])"
      ]
    },
    {
      "cell_type": "markdown",
      "metadata": {
        "id": "0aiJRGbStR4i"
      },
      "source": [
        "Compilação do modelo"
      ]
    },
    {
      "cell_type": "code",
      "execution_count": null,
      "metadata": {
        "id": "3nxvlabjtPvz"
      },
      "outputs": [],
      "source": [
        "model.compile(loss='binary_crossentropy', optimizer='adam', metrics=['accuracy'])"
      ]
    },
    {
      "cell_type": "markdown",
      "metadata": {
        "id": "fhmIGfwTtUho"
      },
      "source": [
        "Visualizando os dados"
      ]
    },
    {
      "cell_type": "code",
      "execution_count": null,
      "metadata": {
        "colab": {
          "base_uri": "https://localhost:8080/"
        },
        "id": "KsQpwtwQtV8H",
        "outputId": "e5c52162-81ea-45db-d83c-4e271e946945"
      },
      "outputs": [
        {
          "name": "stdout",
          "output_type": "stream",
          "text": [
            "Model: \"sequential\"\n",
            "_________________________________________________________________\n",
            " Layer (type)                Output Shape              Param #   \n",
            "=================================================================\n",
            " embedding (Embedding)       (None, 280, 16)           1600000   \n",
            "                                                                 \n",
            " flatten (Flatten)           (None, 4480)              0         \n",
            "                                                                 \n",
            " dense (Dense)               (None, 32)                143392    \n",
            "                                                                 \n",
            " dense_1 (Dense)             (None, 1)                 33        \n",
            "                                                                 \n",
            "=================================================================\n",
            "Total params: 1743425 (6.65 MB)\n",
            "Trainable params: 1743425 (6.65 MB)\n",
            "Non-trainable params: 0 (0.00 Byte)\n",
            "_________________________________________________________________\n"
          ]
        }
      ],
      "source": [
        "model.summary()"
      ]
    },
    {
      "cell_type": "markdown",
      "metadata": {
        "id": "_MinHHH9tYqw"
      },
      "source": [
        "Treinamento do modelo"
      ]
    },
    {
      "cell_type": "code",
      "execution_count": null,
      "metadata": {
        "colab": {
          "base_uri": "https://localhost:8080/"
        },
        "id": "FqpBMmIvtZLC",
        "outputId": "71c5a992-66e1-4aa2-ad73-2d8172d22d14"
      },
      "outputs": [
        {
          "name": "stdout",
          "output_type": "stream",
          "text": [
            "Epoch 1/5\n",
            "542/542 - 6s - loss: 0.6929 - accuracy: 0.5089 - val_loss: 0.6894 - val_accuracy: 0.5384 - 6s/epoch - 10ms/step\n",
            "Epoch 2/5\n",
            "542/542 - 5s - loss: 0.6358 - accuracy: 0.6452 - val_loss: 0.5978 - val_accuracy: 0.6811 - 5s/epoch - 10ms/step\n",
            "Epoch 3/5\n",
            "542/542 - 5s - loss: 0.4897 - accuracy: 0.7765 - val_loss: 0.5483 - val_accuracy: 0.7271 - 5s/epoch - 9ms/step\n",
            "Epoch 4/5\n",
            "542/542 - 5s - loss: 0.3918 - accuracy: 0.8286 - val_loss: 0.5117 - val_accuracy: 0.7703 - 5s/epoch - 10ms/step\n",
            "Epoch 5/5\n",
            "542/542 - 5s - loss: 0.3268 - accuracy: 0.8588 - val_loss: 0.5294 - val_accuracy: 0.7751 - 5s/epoch - 9ms/step\n"
          ]
        }
      ],
      "source": [
        "epochs = 5\n",
        "\n",
        "history = model.fit(X_train, y_train, epochs=epochs, validation_data=(X_val, y_val), verbose=2)"
      ]
    },
    {
      "cell_type": "markdown",
      "metadata": {
        "id": "DQ8pN0mhva0-"
      },
      "source": [
        "Plotando as curvas de loss"
      ]
    },
    {
      "cell_type": "code",
      "execution_count": null,
      "metadata": {
        "colab": {
          "base_uri": "https://localhost:8080/",
          "height": 564
        },
        "id": "cD12G6HjvcWW",
        "outputId": "136a3d3d-f191-4578-aa18-1b80c6413e61"
      },
      "outputs": [
        {
          "data": {
            "image/png": "[encoded data removed]",
            "text/plain": [
              "<Figure size 800x600 with 1 Axes>"
            ]
          },
          "metadata": {},
          "output_type": "display_data"
        }
      ],
      "source": [
        "plt.figure(figsize=(8, 6))\n",
        "plt.plot(history.history['loss'], label='Training Loss')\n",
        "plt.plot(history.history['val_loss'], label='Validation Loss')\n",
        "plt.title('Training and Validation Losses')\n",
        "plt.xlabel('Epoch')\n",
        "plt.ylabel('Loss')\n",
        "plt.legend()\n",
        "plt.show()"
      ]
    },
    {
      "cell_type": "markdown",
      "metadata": {
        "id": "j8al_ZDwvCkM"
      },
      "source": [
        "### Avaliação do modelo"
      ]
    },
    {
      "cell_type": "markdown",
      "metadata": {
        "id": "haXW7dZktdME"
      },
      "source": [
        "Avaliar o modelo nos dados de teste\n"
      ]
    },
    {
      "cell_type": "code",
      "execution_count": null,
      "metadata": {
        "colab": {
          "base_uri": "https://localhost:8080/"
        },
        "id": "DKw6QWw5tg3q",
        "outputId": "2697df40-6781-4ed7-d931-ba3cee06b594"
      },
      "outputs": [
        {
          "name": "stdout",
          "output_type": "stream",
          "text": [
            "675/675 - 1s - loss: 0.7013 - accuracy: 0.7395 - 1s/epoch - 2ms/step\n",
            "Perda nos dados de teste: 0.7013\n",
            "Acurácia nos dados de teste: 0.7395\n"
          ]
        }
      ],
      "source": [
        "loss, accuracy = model.evaluate(padded_sequences_test, y_test, verbose=2)\n",
        "print(f\"Perda nos dados de teste: {loss:.4f}\")\n",
        "print(f\"Acurácia nos dados de teste: {accuracy:.4f}\")"
      ]
    },
    {
      "cell_type": "markdown",
      "metadata": {
        "id": "e-WZ9n8RvG-h"
      },
      "source": [
        "Gerando o relatório de classificação"
      ]
    },
    {
      "cell_type": "code",
      "execution_count": null,
      "metadata": {
        "colab": {
          "base_uri": "https://localhost:8080/"
        },
        "id": "tFY1TQbcvIJc",
        "outputId": "827652dd-9199-4f31-f0cf-d9365c80322b"
      },
      "outputs": [
        {
          "name": "stdout",
          "output_type": "stream",
          "text": [
            "675/675 [==============================] - 1s 1ms/step\n"
          ]
        }
      ],
      "source": [
        "y_pred = (model.predict(padded_sequences_test) > 0.5).astype(\"int32\")\n",
        "\n",
        "report = classification_report(y_test, y_pred, target_names=encoder.classes_, output_dict=True)"
      ]
    },
    {
      "cell_type": "markdown",
      "metadata": {
        "id": "HIBB9D-GvUS7"
      },
      "source": [
        "Plotando os resultados"
      ]
    },
    {
      "cell_type": "code",
      "execution_count": null,
      "metadata": {
        "colab": {
          "base_uri": "https://localhost:8080/"
        },
        "id": "qvQsctddvVnT",
        "outputId": "495d625d-8e5c-4d78-beba-2f8aeab93f46"
      },
      "outputs": [
        {
          "name": "stdout",
          "output_type": "stream",
          "text": [
            "Classificação Report:\n",
            "Class: 0\n",
            "\tPrecision: 0.693551961001551\n",
            "\tRecall: 0.8640839238060182\n",
            "\tF1-score: 0.7694829140375317\n",
            "Class: 1\n",
            "\tPrecision: 0.8167721126411115\n",
            "\tRecall: 0.6134351998509271\n",
            "\tF1-score: 0.7006491433436202\n",
            "Class: macro avg\n",
            "\tPrecision: 0.7551620368213312\n",
            "\tRecall: 0.7387595618284726\n",
            "\tF1-score: 0.7350660286905759\n",
            "Class: weighted avg\n",
            "\tPrecision: 0.7547798261657827\n",
            "\tRecall: 0.739537037037037\n",
            "\tF1-score: 0.7352795408496727\n",
            "Macro Avg: {'precision': 0.7551620368213312, 'recall': 0.7387595618284726, 'f1-score': 0.7350660286905759, 'support': 21600}\n",
            "Weighted Avg: {'precision': 0.7547798261657827, 'recall': 0.739537037037037, 'f1-score': 0.7352795408496727, 'support': 21600}\n"
          ]
        }
      ],
      "source": [
        "print(\"Classificação Report:\")\n",
        "for label, metrics in report.items():\n",
        "    if label == 'accuracy':\n",
        "        continue\n",
        "    print(f\"Class: {label}\")\n",
        "    print(f\"\\tPrecision: {metrics['precision']}\")\n",
        "    print(f\"\\tRecall: {metrics['recall']}\")\n",
        "    print(f\"\\tF1-score: {metrics['f1-score']}\")\n",
        "print(f\"Macro Avg: {report['macro avg']}\")\n",
        "print(f\"Weighted Avg: {report['weighted avg']}\")"
      ]
    },
    {
      "cell_type": "markdown",
      "metadata": {
        "id": "0cT3RoBivXcg"
      },
      "source": [
        "Plotando a matriz de confusão"
      ]
    },
    {
      "cell_type": "code",
      "execution_count": null,
      "metadata": {
        "colab": {
          "base_uri": "https://localhost:8080/",
          "height": 564
        },
        "id": "2H6rW_sjvZdx",
        "outputId": "11638a9c-5e6a-49a2-af27-bd61c06fe6c4"
      },
      "outputs": [
        {
          "data": {
            "image/png": "[encoded data removed]",
            "text/plain": [
              "<Figure size 600x600 with 2 Axes>"
            ]
          },
          "metadata": {},
          "output_type": "display_data"
        }
      ],
      "source": [
        "cm = confusion_matrix(y_test, y_pred)\n",
        "plt.figure(figsize=(6, 6))\n",
        "sns.heatmap(cm, annot=True, fmt='d', cmap='Blues')\n",
        "plt.xlabel('Predicted')\n",
        "plt.ylabel('Actual')\n",
        "plt.title('Confusion Matrix')\n",
        "plt.show()"
      ]
    },
    {
      "cell_type": "markdown",
      "metadata": {
        "id": "F9c6RzO_v0Y3"
      },
      "source": [
        "# Faça o mesmo processamento utilizando GRU"
      ]
    },
    {
      "cell_type": "markdown",
      "metadata": {
        "id": "x9_1oATwtX6b"
      },
      "source": [
        "Pelo menos duas camadas de GRU"
      ]
    },
    {
      "cell_type": "code",
      "execution_count": null,
      "metadata": {
        "id": "538Csc0xv5qo"
      },
      "outputs": [],
      "source": [
        "embedding_dim = 16\n",
        "\n",
        "model_GRU = Sequential([\n",
        "    Embedding(vocab_size, embedding_dim, input_length=max_length),\n",
        "    GRU(64, return_sequences=True, trainable=True),\n",
        "    GRU(64, trainable=True),\n",
        "    Dense(32, activation='relu', trainable=True),\n",
        "    Dense(1, activation='sigmoid')\n",
        "])"
      ]
    },
    {
      "cell_type": "markdown",
      "metadata": {
        "id": "rvM65EPtB029"
      },
      "source": [
        "Compilação do modelo"
      ]
    },
    {
      "cell_type": "code",
      "execution_count": null,
      "metadata": {
        "id": "nLRnTDkrB02_"
      },
      "outputs": [],
      "source": [
        "model_GRU.compile(loss='binary_crossentropy', optimizer='adam', metrics=['accuracy'])"
      ]
    },
    {
      "cell_type": "markdown",
      "metadata": {
        "id": "-VRYp6PJB03A"
      },
      "source": [
        "Visualizando os dados"
      ]
    },
    {
      "cell_type": "code",
      "execution_count": null,
      "metadata": {
        "colab": {
          "base_uri": "https://localhost:8080/"
        },
        "id": "9urzXHnLB03B",
        "outputId": "2e3e50ff-a4d1-4388-c0fe-f564e00c11ec"
      },
      "outputs": [
        {
          "name": "stdout",
          "output_type": "stream",
          "text": [
            "Model: \"sequential_1\"\n",
            "_________________________________________________________________\n",
            " Layer (type)                Output Shape              Param #   \n",
            "=================================================================\n",
            " embedding_1 (Embedding)     (None, 280, 16)           1600000   \n",
            "                                                                 \n",
            " gru (GRU)                   (None, 280, 64)           15744     \n",
            "                                                                 \n",
            " gru_1 (GRU)                 (None, 64)                24960     \n",
            "                                                                 \n",
            " dense_2 (Dense)             (None, 32)                2080      \n",
            "                                                                 \n",
            " dense_3 (Dense)             (None, 1)                 33        \n",
            "                                                                 \n",
            "=================================================================\n",
            "Total params: 1642817 (6.27 MB)\n",
            "Trainable params: 1642817 (6.27 MB)\n",
            "Non-trainable params: 0 (0.00 Byte)\n",
            "_________________________________________________________________\n"
          ]
        }
      ],
      "source": [
        "model_GRU.summary()"
      ]
    },
    {
      "cell_type": "markdown",
      "metadata": {
        "id": "xyGnl0x0B03C"
      },
      "source": [
        "Treinamento do modelo"
      ]
    },
    {
      "cell_type": "code",
      "execution_count": null,
      "metadata": {
        "colab": {
          "base_uri": "https://localhost:8080/"
        },
        "id": "bIvA7wW1B03D",
        "outputId": "9e02a322-fa5b-4906-f112-22cabe8f927f"
      },
      "outputs": [
        {
          "name": "stdout",
          "output_type": "stream",
          "text": [
            "Epoch 1/5\n",
            "542/542 - 89s - loss: 0.6934 - accuracy: 0.4990 - val_loss: 0.6931 - val_accuracy: 0.5075 - 89s/epoch - 163ms/step\n",
            "Epoch 2/5\n",
            "542/542 - 91s - loss: 0.6932 - accuracy: 0.5035 - val_loss: 0.6931 - val_accuracy: 0.5075 - 91s/epoch - 168ms/step\n",
            "Epoch 3/5\n",
            "542/542 - 85s - loss: 0.6933 - accuracy: 0.5044 - val_loss: 0.6932 - val_accuracy: 0.4925 - 85s/epoch - 157ms/step\n",
            "Epoch 4/5\n",
            "542/542 - 83s - loss: 0.6932 - accuracy: 0.4968 - val_loss: 0.6933 - val_accuracy: 0.4925 - 83s/epoch - 154ms/step\n",
            "Epoch 5/5\n",
            "542/542 - 83s - loss: 0.6931 - accuracy: 0.5046 - val_loss: 0.6933 - val_accuracy: 0.4925 - 83s/epoch - 153ms/step\n"
          ]
        }
      ],
      "source": [
        "epochs = 5\n",
        "history = model_GRU.fit(X_train, y_train, epochs=epochs, validation_data=(X_val, y_val), verbose=2)"
      ]
    },
    {
      "cell_type": "markdown",
      "metadata": {
        "id": "4-tVk7uUB03D"
      },
      "source": [
        "Plotando as curvas de loss"
      ]
    },
    {
      "cell_type": "code",
      "execution_count": null,
      "metadata": {
        "colab": {
          "base_uri": "https://localhost:8080/",
          "height": 564
        },
        "id": "lNnh3upHB03E",
        "outputId": "c3959ce4-e048-4d0f-9aba-ce550427d43a"
      },
      "outputs": [
        {
          "data": {
            "image/png": "[encoded data removed]",
            "text/plain": [
              "<Figure size 800x600 with 1 Axes>"
            ]
          },
          "metadata": {},
          "output_type": "display_data"
        }
      ],
      "source": [
        "plt.figure(figsize=(8, 6))\n",
        "plt.plot(history.history['loss'], label='Training Loss')\n",
        "plt.plot(history.history['val_loss'], label='Validation Loss')\n",
        "plt.title('Training and Validation Losses')\n",
        "plt.xlabel('Epoch')\n",
        "plt.ylabel('Loss')\n",
        "plt.legend()\n",
        "plt.show()"
      ]
    },
    {
      "cell_type": "markdown",
      "metadata": {
        "id": "XyW2ELQVCB9W"
      },
      "source": [
        "### Avaliação do modelo"
      ]
    },
    {
      "cell_type": "markdown",
      "metadata": {
        "id": "4KZl51JrCB9Y"
      },
      "source": [
        "Avaliar o modelo nos dados de teste\n"
      ]
    },
    {
      "cell_type": "code",
      "execution_count": null,
      "metadata": {
        "colab": {
          "base_uri": "https://localhost:8080/"
        },
        "id": "4e7Kv5R2CB9Y",
        "outputId": "dad60196-8a3a-4c3d-e489-c843af472af5"
      },
      "outputs": [
        {
          "name": "stdout",
          "output_type": "stream",
          "text": [
            "675/675 - 22s - loss: 0.6931 - accuracy: 0.5031 - 22s/epoch - 32ms/step\n",
            "Perda nos dados de teste: 0.6931\n",
            "Acurácia nos dados de teste: 0.5031\n"
          ]
        }
      ],
      "source": [
        "loss, accuracy = model_GRU.evaluate(padded_sequences_test, y_test, verbose=2)\n",
        "print(f\"Perda nos dados de teste: {loss:.4f}\")\n",
        "print(f\"Acurácia nos dados de teste: {accuracy:.4f}\")"
      ]
    },
    {
      "cell_type": "markdown",
      "metadata": {
        "id": "TFqkM69mCB9a"
      },
      "source": [
        "Gerando o relatório de classificação"
      ]
    },
    {
      "cell_type": "code",
      "execution_count": null,
      "metadata": {
        "colab": {
          "base_uri": "https://localhost:8080/"
        },
        "id": "p3Hl1UlCCB9b",
        "outputId": "4387e6f9-259b-45a6-e122-dab7be4de97f"
      },
      "outputs": [
        {
          "name": "stdout",
          "output_type": "stream",
          "text": [
            "675/675 [==============================] - 23s 34ms/step\n"
          ]
        },
        {
          "name": "stderr",
          "output_type": "stream",
          "text": [
            "/usr/local/lib/python3.10/dist-packages/sklearn/metrics/_classification.py:1344: UndefinedMetricWarning: Precision and F-score are ill-defined and being set to 0.0 in labels with no predicted samples. Use `zero_division` parameter to control this behavior.\n",
            "  _warn_prf(average, modifier, msg_start, len(result))\n",
            "/usr/local/lib/python3.10/dist-packages/sklearn/metrics/_classification.py:1344: UndefinedMetricWarning: Precision and F-score are ill-defined and being set to 0.0 in labels with no predicted samples. Use `zero_division` parameter to control this behavior.\n",
            "  _warn_prf(average, modifier, msg_start, len(result))\n",
            "/usr/local/lib/python3.10/dist-packages/sklearn/metrics/_classification.py:1344: UndefinedMetricWarning: Precision and F-score are ill-defined and being set to 0.0 in labels with no predicted samples. Use `zero_division` parameter to control this behavior.\n",
            "  _warn_prf(average, modifier, msg_start, len(result))\n"
          ]
        }
      ],
      "source": [
        "y_pred = (model_GRU.predict(padded_sequences_test) > 0.5).astype(\"int32\")\n",
        "\n",
        "report = classification_report(y_test, y_pred, target_names=encoder.classes_, output_dict=True)"
      ]
    },
    {
      "cell_type": "markdown",
      "metadata": {
        "id": "n-umL-dMCB9b"
      },
      "source": [
        "Plotando os resultados"
      ]
    },
    {
      "cell_type": "code",
      "execution_count": null,
      "metadata": {
        "colab": {
          "base_uri": "https://localhost:8080/"
        },
        "id": "5N_uKHyCCB9c",
        "outputId": "bae3ebad-593e-4dc4-e383-45daf87f85bb"
      },
      "outputs": [
        {
          "name": "stdout",
          "output_type": "stream",
          "text": [
            "Classificação Report:\n",
            "Class: 0\n",
            "\tPrecision: 0.5031018518518519\n",
            "\tRecall: 1.0\n",
            "\tF1-score: 0.6694181784581268\n",
            "Class: 1\n",
            "\tPrecision: 0.0\n",
            "\tRecall: 0.0\n",
            "\tF1-score: 0.0\n",
            "Class: macro avg\n",
            "\tPrecision: 0.25155092592592593\n",
            "\tRecall: 0.5\n",
            "\tF1-score: 0.3347090892290634\n",
            "Class: weighted avg\n",
            "\tPrecision: 0.2531114733367627\n",
            "\tRecall: 0.5031018518518519\n",
            "\tF1-score: 0.33678552524557703\n",
            "Macro Avg: {'precision': 0.25155092592592593, 'recall': 0.5, 'f1-score': 0.3347090892290634, 'support': 21600}\n",
            "Weighted Avg: {'precision': 0.2531114733367627, 'recall': 0.5031018518518519, 'f1-score': 0.33678552524557703, 'support': 21600}\n"
          ]
        }
      ],
      "source": [
        "print(\"Classificação Report:\")\n",
        "for label, metrics in report.items():\n",
        "    if label == 'accuracy':\n",
        "        continue\n",
        "    print(f\"Class: {label}\")\n",
        "    print(f\"\\tPrecision: {metrics['precision']}\")\n",
        "    print(f\"\\tRecall: {metrics['recall']}\")\n",
        "    print(f\"\\tF1-score: {metrics['f1-score']}\")\n",
        "print(f\"Macro Avg: {report['macro avg']}\")\n",
        "print(f\"Weighted Avg: {report['weighted avg']}\")"
      ]
    },
    {
      "cell_type": "markdown",
      "metadata": {
        "id": "CbHR7SaBCB9c"
      },
      "source": [
        "Plotando a matriz de confusão"
      ]
    },
    {
      "cell_type": "code",
      "execution_count": null,
      "metadata": {
        "colab": {
          "base_uri": "https://localhost:8080/",
          "height": 564
        },
        "id": "0zfSxINzCB9d",
        "outputId": "00b502ff-b844-4504-f9bd-b281e5b20ccf"
      },
      "outputs": [
        {
          "data": {
            "image/png": "[encoded data removed]",
            "text/plain": [
              "<Figure size 600x600 with 2 Axes>"
            ]
          },
          "metadata": {},
          "output_type": "display_data"
        }
      ],
      "source": [
        "cm = confusion_matrix(y_test, y_pred)\n",
        "plt.figure(figsize=(6, 6))\n",
        "sns.heatmap(cm, annot=True, fmt='d', cmap='Blues')\n",
        "plt.xlabel('Predicted')\n",
        "plt.ylabel('Actual')\n",
        "plt.title('Confusion Matrix')\n",
        "plt.show()"
      ]
    },
    {
      "cell_type": "markdown",
      "metadata": {
        "id": "o9U_kfeXv8k1"
      },
      "source": [
        "# Faça o mesmo processamento utilizando LSTM"
      ]
    },
    {
      "cell_type": "markdown",
      "metadata": {
        "id": "sbJ__bvTtaf7"
      },
      "source": [
        "Pelo menos duas camadas de LSTM"
      ]
    },
    {
      "cell_type": "code",
      "execution_count": null,
      "metadata": {
        "id": "89kkB2OKLZYu"
      },
      "outputs": [],
      "source": [
        "embedding_dim = 16\n",
        "\n",
        "model_LSTM = Sequential([\n",
        "    Embedding(vocab_size, embedding_dim, input_length=max_length),\n",
        "    LSTM(64, return_sequences=True, trainable=True),\n",
        "    LSTM(64, trainable=True),\n",
        "    Dense(32, activation='relu', trainable=True),\n",
        "    Dense(1, activation='sigmoid')\n",
        "])"
      ]
    },
    {
      "cell_type": "markdown",
      "metadata": {
        "id": "6QpV9RXOLZYu"
      },
      "source": [
        "Compilação do modelo"
      ]
    },
    {
      "cell_type": "code",
      "execution_count": null,
      "metadata": {
        "id": "IERTeyPvLZYv"
      },
      "outputs": [],
      "source": [
        "model_LSTM.compile(loss='binary_crossentropy', optimizer='adam', metrics=['accuracy'])"
      ]
    },
    {
      "cell_type": "markdown",
      "metadata": {
        "id": "zQRkOkWqLZYv"
      },
      "source": [
        "Visualizando os dados"
      ]
    },
    {
      "cell_type": "code",
      "execution_count": null,
      "metadata": {
        "colab": {
          "base_uri": "https://localhost:8080/"
        },
        "id": "5H2thgtoLZYv",
        "outputId": "0bcd6c0a-ce09-4784-f9e8-736a99ff5d72"
      },
      "outputs": [
        {
          "name": "stdout",
          "output_type": "stream",
          "text": [
            "Model: \"sequential_2\"\n",
            "_________________________________________________________________\n",
            " Layer (type)                Output Shape              Param #   \n",
            "=================================================================\n",
            " embedding_2 (Embedding)     (None, 280, 16)           1600000   \n",
            "                                                                 \n",
            " lstm (LSTM)                 (None, 280, 64)           20736     \n",
            "                                                                 \n",
            " lstm_1 (LSTM)               (None, 64)                33024     \n",
            "                                                                 \n",
            " dense_4 (Dense)             (None, 32)                2080      \n",
            "                                                                 \n",
            " dense_5 (Dense)             (None, 1)                 33        \n",
            "                                                                 \n",
            "=================================================================\n",
            "Total params: 1655873 (6.32 MB)\n",
            "Trainable params: 1655873 (6.32 MB)\n",
            "Non-trainable params: 0 (0.00 Byte)\n",
            "_________________________________________________________________\n"
          ]
        }
      ],
      "source": [
        "model_LSTM.summary()"
      ]
    },
    {
      "cell_type": "markdown",
      "metadata": {
        "id": "S9wbJJMpLZYw"
      },
      "source": [
        "Treinamento do modelo"
      ]
    },
    {
      "cell_type": "code",
      "execution_count": null,
      "metadata": {
        "colab": {
          "base_uri": "https://localhost:8080/"
        },
        "id": "vFUuti7VLZYx",
        "outputId": "8e841a9d-1446-49a2-ec32-ec58e6c583fd"
      },
      "outputs": [
        {
          "name": "stdout",
          "output_type": "stream",
          "text": [
            "Epoch 1/5\n",
            "542/542 - 107s - loss: 0.6934 - accuracy: 0.5005 - val_loss: 0.6932 - val_accuracy: 0.4925 - 107s/epoch - 198ms/step\n",
            "Epoch 2/5\n",
            "542/542 - 104s - loss: 0.6932 - accuracy: 0.5030 - val_loss: 0.6931 - val_accuracy: 0.5075 - 104s/epoch - 192ms/step\n",
            "Epoch 3/5\n",
            "542/542 - 103s - loss: 0.6932 - accuracy: 0.5007 - val_loss: 0.6935 - val_accuracy: 0.4925 - 103s/epoch - 191ms/step\n",
            "Epoch 4/5\n",
            "542/542 - 103s - loss: 0.6932 - accuracy: 0.5009 - val_loss: 0.6933 - val_accuracy: 0.4925 - 103s/epoch - 190ms/step\n",
            "Epoch 5/5\n",
            "542/542 - 105s - loss: 0.6931 - accuracy: 0.5046 - val_loss: 0.6933 - val_accuracy: 0.4925 - 105s/epoch - 193ms/step\n"
          ]
        }
      ],
      "source": [
        "epochs = 5\n",
        "history = model_LSTM.fit(X_train, y_train, epochs=epochs, validation_data=(X_val, y_val), verbose=2)"
      ]
    },
    {
      "cell_type": "markdown",
      "metadata": {
        "id": "ddJ4WHcwLZYx"
      },
      "source": [
        "Plotando as curvas de loss"
      ]
    },
    {
      "cell_type": "code",
      "execution_count": null,
      "metadata": {
        "colab": {
          "base_uri": "https://localhost:8080/",
          "height": 564
        },
        "id": "BX2Vc2utLZYy",
        "outputId": "f3a96ff3-616e-432b-8832-9ee07b6745ed"
      },
      "outputs": [
        {
          "data": {
            "image/png": "[encoded data removed]",
            "text/plain": [
              "<Figure size 800x600 with 1 Axes>"
            ]
          },
          "metadata": {},
          "output_type": "display_data"
        }
      ],
      "source": [
        "plt.figure(figsize=(8, 6))\n",
        "plt.plot(history.history['loss'], label='Training Loss')\n",
        "plt.plot(history.history['val_loss'], label='Validation Loss')\n",
        "plt.title('Training and Validation Losses')\n",
        "plt.xlabel('Epoch')\n",
        "plt.ylabel('Loss')\n",
        "plt.legend()\n",
        "plt.show()"
      ]
    },
    {
      "cell_type": "markdown",
      "metadata": {
        "id": "5yF9CCK0LZYy"
      },
      "source": [
        "### Avaliação do modelo"
      ]
    },
    {
      "cell_type": "markdown",
      "metadata": {
        "id": "pLxaOOgZLZYy"
      },
      "source": [
        "Avaliar o modelo nos dados de teste\n"
      ]
    },
    {
      "cell_type": "code",
      "execution_count": null,
      "metadata": {
        "colab": {
          "base_uri": "https://localhost:8080/"
        },
        "id": "Tgp-8SO-LZYz",
        "outputId": "7ee51134-3662-4e7c-fd25-119e92090734"
      },
      "outputs": [
        {
          "name": "stdout",
          "output_type": "stream",
          "text": [
            "675/675 - 28s - loss: 0.6931 - accuracy: 0.5031 - 28s/epoch - 41ms/step\n",
            "Perda nos dados de teste: 0.6931\n",
            "Acurácia nos dados de teste: 0.5031\n"
          ]
        }
      ],
      "source": [
        "loss, accuracy = model_LSTM.evaluate(padded_sequences_test, y_test, verbose=2)\n",
        "print(f\"Perda nos dados de teste: {loss:.4f}\")\n",
        "print(f\"Acurácia nos dados de teste: {accuracy:.4f}\")"
      ]
    },
    {
      "cell_type": "markdown",
      "metadata": {
        "id": "XiZRgkiaLZY0"
      },
      "source": [
        "Gerando o relatório de classificação"
      ]
    },
    {
      "cell_type": "code",
      "execution_count": null,
      "metadata": {
        "colab": {
          "base_uri": "https://localhost:8080/"
        },
        "id": "luI8dL8FLZY0",
        "outputId": "017072ca-947a-4b43-ddef-7262067cfdc6"
      },
      "outputs": [
        {
          "name": "stdout",
          "output_type": "stream",
          "text": [
            "675/675 [==============================] - 29s 43ms/step\n"
          ]
        },
        {
          "name": "stderr",
          "output_type": "stream",
          "text": [
            "/usr/local/lib/python3.10/dist-packages/sklearn/metrics/_classification.py:1344: UndefinedMetricWarning: Precision and F-score are ill-defined and being set to 0.0 in labels with no predicted samples. Use `zero_division` parameter to control this behavior.\n",
            "  _warn_prf(average, modifier, msg_start, len(result))\n",
            "/usr/local/lib/python3.10/dist-packages/sklearn/metrics/_classification.py:1344: UndefinedMetricWarning: Precision and F-score are ill-defined and being set to 0.0 in labels with no predicted samples. Use `zero_division` parameter to control this behavior.\n",
            "  _warn_prf(average, modifier, msg_start, len(result))\n",
            "/usr/local/lib/python3.10/dist-packages/sklearn/metrics/_classification.py:1344: UndefinedMetricWarning: Precision and F-score are ill-defined and being set to 0.0 in labels with no predicted samples. Use `zero_division` parameter to control this behavior.\n",
            "  _warn_prf(average, modifier, msg_start, len(result))\n"
          ]
        }
      ],
      "source": [
        "y_pred = (model_LSTM.predict(padded_sequences_test) > 0.5).astype(\"int32\")\n",
        "\n",
        "report = classification_report(y_test, y_pred, target_names=encoder.classes_, output_dict=True)"
      ]
    },
    {
      "cell_type": "markdown",
      "metadata": {
        "id": "sCK45wW1LZY1"
      },
      "source": [
        "Plotando os resultados"
      ]
    },
    {
      "cell_type": "code",
      "execution_count": null,
      "metadata": {
        "colab": {
          "base_uri": "https://localhost:8080/"
        },
        "id": "zFjBQlxTLZY1",
        "outputId": "93d33717-6389-4c0e-8166-ad22370e3443"
      },
      "outputs": [
        {
          "name": "stdout",
          "output_type": "stream",
          "text": [
            "Classificação Report:\n",
            "Class: 0\n",
            "\tPrecision: 0.5031018518518519\n",
            "\tRecall: 1.0\n",
            "\tF1-score: 0.6694181784581268\n",
            "Class: 1\n",
            "\tPrecision: 0.0\n",
            "\tRecall: 0.0\n",
            "\tF1-score: 0.0\n",
            "Class: macro avg\n",
            "\tPrecision: 0.25155092592592593\n",
            "\tRecall: 0.5\n",
            "\tF1-score: 0.3347090892290634\n",
            "Class: weighted avg\n",
            "\tPrecision: 0.2531114733367627\n",
            "\tRecall: 0.5031018518518519\n",
            "\tF1-score: 0.33678552524557703\n",
            "Macro Avg: {'precision': 0.25155092592592593, 'recall': 0.5, 'f1-score': 0.3347090892290634, 'support': 21600}\n",
            "Weighted Avg: {'precision': 0.2531114733367627, 'recall': 0.5031018518518519, 'f1-score': 0.33678552524557703, 'support': 21600}\n"
          ]
        }
      ],
      "source": [
        "print(\"Classificação Report:\")\n",
        "for label, metrics in report.items():\n",
        "    if label == 'accuracy':\n",
        "        continue\n",
        "    print(f\"Class: {label}\")\n",
        "    print(f\"\\tPrecision: {metrics['precision']}\")\n",
        "    print(f\"\\tRecall: {metrics['recall']}\")\n",
        "    print(f\"\\tF1-score: {metrics['f1-score']}\")\n",
        "print(f\"Macro Avg: {report['macro avg']}\")\n",
        "print(f\"Weighted Avg: {report['weighted avg']}\")"
      ]
    },
    {
      "cell_type": "markdown",
      "metadata": {
        "id": "nt0UnHJnLZY2"
      },
      "source": [
        "Plotando a matriz de confusão"
      ]
    },
    {
      "cell_type": "code",
      "execution_count": null,
      "metadata": {
        "colab": {
          "base_uri": "https://localhost:8080/",
          "height": 564
        },
        "id": "i8HkbIkcLZY3",
        "outputId": "63fa386c-2258-4c64-baec-855e77be1682"
      },
      "outputs": [
        {
          "data": {
            "image/png": "[encoded data removed]",
            "text/plain": [
              "<Figure size 600x600 with 2 Axes>"
            ]
          },
          "metadata": {},
          "output_type": "display_data"
        }
      ],
      "source": [
        "cm = confusion_matrix(y_test, y_pred)\n",
        "plt.figure(figsize=(6, 6))\n",
        "sns.heatmap(cm, annot=True, fmt='d', cmap='Blues')\n",
        "plt.xlabel('Predicted')\n",
        "plt.ylabel('Actual')\n",
        "plt.title('Confusion Matrix')\n",
        "plt.show()"
      ]
    },
    {
      "cell_type": "markdown",
      "metadata": {
        "id": "WNwTbwRwLZY3"
      },
      "source": [
        "Previsões do modelo"
      ]
    },
    {
      "cell_type": "markdown",
      "metadata": {
        "id": "xfT37qLuwDH7"
      },
      "source": [
        "# Faça o mesmo processamento utilizando GRU Bi-direcionais"
      ]
    },
    {
      "cell_type": "markdown",
      "metadata": {
        "id": "lX9C15tdtevz"
      },
      "source": [
        "Pelo menos duas camadas de GRU bi-direcionais"
      ]
    },
    {
      "cell_type": "code",
      "execution_count": null,
      "metadata": {
        "id": "mTEh8YdVLb0C"
      },
      "outputs": [],
      "source": [
        "embedding_dim = 8\n",
        "\n",
        "model_GRU2 = Sequential([\n",
        "    Embedding(vocab_size, embedding_dim, input_length=max_length),\n",
        "    Bidirectional(GRU(64, return_sequences=True, trainable = True)),\n",
        "    Bidirectional(GRU(64, trainable = True)),\n",
        "    Dense(32, activation='relu', trainable = True),\n",
        "    Dense(1, activation='sigmoid')\n",
        "])"
      ]
    },
    {
      "cell_type": "markdown",
      "metadata": {
        "id": "Z08uw3UyLb0D"
      },
      "source": [
        "Compilação do modelo"
      ]
    },
    {
      "cell_type": "code",
      "execution_count": null,
      "metadata": {
        "id": "L0jJlkS5Lb0D"
      },
      "outputs": [],
      "source": [
        "model_GRU2.compile(loss='binary_crossentropy', optimizer='adam', metrics=['accuracy'])"
      ]
    },
    {
      "cell_type": "markdown",
      "metadata": {
        "id": "JHbPyLtjLb0E"
      },
      "source": [
        "Visualizando os dados"
      ]
    },
    {
      "cell_type": "code",
      "execution_count": null,
      "metadata": {
        "colab": {
          "base_uri": "https://localhost:8080/"
        },
        "id": "9JM8mZx_Lb0E",
        "outputId": "e7a9a74e-bc1e-4655-c8f8-5fa7f253e2d4"
      },
      "outputs": [
        {
          "name": "stdout",
          "output_type": "stream",
          "text": [
            "Model: \"sequential_3\"\n",
            "_________________________________________________________________\n",
            " Layer (type)                Output Shape              Param #   \n",
            "=================================================================\n",
            " embedding_3 (Embedding)     (None, 280, 8)            800000    \n",
            "                                                                 \n",
            " bidirectional (Bidirection  (None, 280, 128)          28416     \n",
            " al)                                                             \n",
            "                                                                 \n",
            " bidirectional_1 (Bidirecti  (None, 128)               74496     \n",
            " onal)                                                           \n",
            "                                                                 \n",
            " dense_6 (Dense)             (None, 32)                4128      \n",
            "                                                                 \n",
            " dense_7 (Dense)             (None, 1)                 33        \n",
            "                                                                 \n",
            "=================================================================\n",
            "Total params: 907073 (3.46 MB)\n",
            "Trainable params: 907073 (3.46 MB)\n",
            "Non-trainable params: 0 (0.00 Byte)\n",
            "_________________________________________________________________\n"
          ]
        }
      ],
      "source": [
        "model_GRU2.summary()"
      ]
    },
    {
      "cell_type": "markdown",
      "metadata": {
        "id": "VeCL4w8JLb0F"
      },
      "source": [
        "Treinamento do modelo"
      ]
    },
    {
      "cell_type": "code",
      "execution_count": null,
      "metadata": {
        "colab": {
          "base_uri": "https://localhost:8080/"
        },
        "id": "pZq04MO1Lb0H",
        "outputId": "310ccaaa-8bee-41dc-e48c-64f33d45fc0a"
      },
      "outputs": [
        {
          "name": "stdout",
          "output_type": "stream",
          "text": [
            "Epoch 1/5\n",
            "542/542 - 173s - loss: 0.6929 - accuracy: 0.5081 - val_loss: 0.6928 - val_accuracy: 0.5274 - 173s/epoch - 318ms/step\n",
            "Epoch 2/5\n",
            "542/542 - 161s - loss: 0.6735 - accuracy: 0.5833 - val_loss: 0.6880 - val_accuracy: 0.5468 - 161s/epoch - 298ms/step\n",
            "Epoch 3/5\n",
            "542/542 - 163s - loss: 0.6508 - accuracy: 0.6206 - val_loss: 0.7070 - val_accuracy: 0.5454 - 163s/epoch - 301ms/step\n",
            "Epoch 4/5\n",
            "542/542 - 163s - loss: 0.6395 - accuracy: 0.6323 - val_loss: 0.7017 - val_accuracy: 0.5391 - 163s/epoch - 301ms/step\n",
            "Epoch 5/5\n",
            "542/542 - 160s - loss: 0.6311 - accuracy: 0.6383 - val_loss: 0.6824 - val_accuracy: 0.5675 - 160s/epoch - 295ms/step\n"
          ]
        }
      ],
      "source": [
        "epochs = 5\n",
        "history = model_GRU2.fit(X_train, y_train, epochs=epochs, validation_data=(X_val, y_val), verbose=2)"
      ]
    },
    {
      "cell_type": "markdown",
      "metadata": {
        "id": "dtKOpQxzLb0H"
      },
      "source": [
        "Plotando as curvas de loss"
      ]
    },
    {
      "cell_type": "code",
      "execution_count": null,
      "metadata": {
        "colab": {
          "base_uri": "https://localhost:8080/",
          "height": 564
        },
        "id": "kOd4kiDZLb0H",
        "outputId": "9dd2e02a-0019-471b-f948-3c15ca805300"
      },
      "outputs": [
        {
          "data": {
            "image/png": "[encoded data removed]",
            "text/plain": [
              "<Figure size 800x600 with 1 Axes>"
            ]
          },
          "metadata": {},
          "output_type": "display_data"
        }
      ],
      "source": [
        "plt.figure(figsize=(8, 6))\n",
        "plt.plot(history.history['loss'], label='Training Loss')\n",
        "plt.plot(history.history['val_loss'], label='Validation Loss')\n",
        "plt.title('Training and Validation Losses')\n",
        "plt.xlabel('Epoch')\n",
        "plt.ylabel('Loss')\n",
        "plt.legend()\n",
        "plt.show()"
      ]
    },
    {
      "cell_type": "markdown",
      "metadata": {
        "id": "hRTervlMLb0H"
      },
      "source": [
        "### Avaliação do modelo"
      ]
    },
    {
      "cell_type": "markdown",
      "metadata": {
        "id": "_2W0CIo8Lb0I"
      },
      "source": [
        "Avaliar o modelo nos dados de teste\n"
      ]
    },
    {
      "cell_type": "code",
      "execution_count": null,
      "metadata": {
        "colab": {
          "base_uri": "https://localhost:8080/"
        },
        "id": "Rpjtr5bRLb0I",
        "outputId": "2f9bcbbc-c1d2-4c8b-e4fe-09a1dd4450b6"
      },
      "outputs": [
        {
          "name": "stdout",
          "output_type": "stream",
          "text": [
            "675/675 - 43s - loss: 0.6838 - accuracy: 0.5331 - 43s/epoch - 64ms/step\n",
            "Perda nos dados de teste: 0.6838\n",
            "Acurácia nos dados de teste: 0.5331\n"
          ]
        }
      ],
      "source": [
        "loss, accuracy = model_GRU2.evaluate(padded_sequences_test, y_test, verbose=2)\n",
        "print(f\"Perda nos dados de teste: {loss:.4f}\")\n",
        "print(f\"Acurácia nos dados de teste: {accuracy:.4f}\")"
      ]
    },
    {
      "cell_type": "markdown",
      "metadata": {
        "id": "CKMDCSudLb0J"
      },
      "source": [
        "Gerando o relatório de classificação"
      ]
    },
    {
      "cell_type": "code",
      "execution_count": null,
      "metadata": {
        "colab": {
          "base_uri": "https://localhost:8080/"
        },
        "id": "x5-5DIo4Lb0J",
        "outputId": "833f5fe1-aac6-4582-a5be-3ed0690509a4"
      },
      "outputs": [
        {
          "name": "stdout",
          "output_type": "stream",
          "text": [
            "675/675 [==============================] - 46s 67ms/step\n"
          ]
        }
      ],
      "source": [
        "y_pred = (model_GRU2.predict(padded_sequences_test) > 0.5).astype(\"int32\")\n",
        "\n",
        "report = classification_report(y_test, y_pred, target_names=encoder.classes_, output_dict=True)"
      ]
    },
    {
      "cell_type": "markdown",
      "metadata": {
        "id": "3Cma30V3Lb0J"
      },
      "source": [
        "Plotando os resultados"
      ]
    },
    {
      "cell_type": "code",
      "execution_count": null,
      "metadata": {
        "colab": {
          "base_uri": "https://localhost:8080/"
        },
        "id": "l7MyR7aPLb0K",
        "outputId": "5804f1a7-aa66-49c5-e299-0a37f34d4f7a"
      },
      "outputs": [
        {
          "name": "stdout",
          "output_type": "stream",
          "text": [
            "Classificação Report:\n",
            "Class: 0\n",
            "\tPrecision: 0.5257263324329666\n",
            "\tRecall: 0.7343333026594276\n",
            "\tF1-score: 0.6127620363971436\n",
            "Class: 1\n",
            "\tPrecision: 0.5503815605045943\n",
            "\tRecall: 0.3292648840026088\n",
            "\tF1-score: 0.4120321790835957\n",
            "Class: macro avg\n",
            "\tPrecision: 0.5380539464687805\n",
            "\tRecall: 0.5317990933310182\n",
            "\tF1-score: 0.5123971077403696\n",
            "Class: weighted avg\n",
            "\tPrecision: 0.5379774696039287\n",
            "\tRecall: 0.5330555555555555\n",
            "\tF1-score: 0.5130197420199996\n",
            "Macro Avg: {'precision': 0.5380539464687805, 'recall': 0.5317990933310182, 'f1-score': 0.5123971077403696, 'support': 21600}\n",
            "Weighted Avg: {'precision': 0.5379774696039287, 'recall': 0.5330555555555555, 'f1-score': 0.5130197420199996, 'support': 21600}\n"
          ]
        }
      ],
      "source": [
        "print(\"Classificação Report:\")\n",
        "for label, metrics in report.items():\n",
        "    if label == 'accuracy':\n",
        "        continue\n",
        "    print(f\"Class: {label}\")\n",
        "    print(f\"\\tPrecision: {metrics['precision']}\")\n",
        "    print(f\"\\tRecall: {metrics['recall']}\")\n",
        "    print(f\"\\tF1-score: {metrics['f1-score']}\")\n",
        "print(f\"Macro Avg: {report['macro avg']}\")\n",
        "print(f\"Weighted Avg: {report['weighted avg']}\")"
      ]
    },
    {
      "cell_type": "markdown",
      "metadata": {
        "id": "XfPzXzigLb0K"
      },
      "source": [
        "Plotando a matriz de confusão"
      ]
    },
    {
      "cell_type": "code",
      "execution_count": null,
      "metadata": {
        "colab": {
          "base_uri": "https://localhost:8080/",
          "height": 564
        },
        "id": "EAp-k_CULb0L",
        "outputId": "13c7d045-ad2b-4297-a8b6-a7ec251f89eb"
      },
      "outputs": [
        {
          "data": {
            "image/png": "[encoded data removed]",
            "text/plain": [
              "<Figure size 600x600 with 2 Axes>"
            ]
          },
          "metadata": {},
          "output_type": "display_data"
        }
      ],
      "source": [
        "cm = confusion_matrix(y_test, y_pred)\n",
        "plt.figure(figsize=(6, 6))\n",
        "sns.heatmap(cm, annot=True, fmt='d', cmap='Blues')\n",
        "plt.xlabel('Predicted')\n",
        "plt.ylabel('Actual')\n",
        "plt.title('Confusion Matrix')\n",
        "plt.show()"
      ]
    },
    {
      "cell_type": "markdown",
      "metadata": {
        "id": "D6R0ZGkCLb0M"
      },
      "source": [
        "Previsões do modelo"
      ]
    },
    {
      "cell_type": "markdown",
      "metadata": {
        "id": "60AMjHkjtgcT"
      },
      "source": [
        "# Faça o mesmo processamento utilizando LSTM Bi-direcionais"
      ]
    },
    {
      "cell_type": "markdown",
      "metadata": {
        "id": "Jf2rnvXjtkTL"
      },
      "source": [
        "Pelo menos duas camadas de LSTM Bi-direcionais"
      ]
    },
    {
      "cell_type": "code",
      "execution_count": null,
      "metadata": {
        "id": "MQfhPEEiN7JN"
      },
      "outputs": [],
      "source": [
        "embedding_dim = 16\n",
        "\n",
        "model_LSTM2 = Sequential([\n",
        "    Embedding(vocab_size, embedding_dim, input_length=max_length),\n",
        "    Bidirectional(LSTM(64, return_sequences=True, trainable = True)),\n",
        "    Bidirectional(LSTM(64, trainable = True)),\n",
        "    Dense(32, activation='relu', trainable = True),\n",
        "    Dense(1, activation='sigmoid')\n",
        "])"
      ]
    },
    {
      "cell_type": "markdown",
      "metadata": {
        "id": "8mM9gLhDN7JO"
      },
      "source": [
        "Compilação do modelo"
      ]
    },
    {
      "cell_type": "code",
      "execution_count": null,
      "metadata": {
        "id": "uz3p3JtlN7JO"
      },
      "outputs": [],
      "source": [
        "model_LSTM2.compile(loss='binary_crossentropy', optimizer='adam', metrics=['accuracy'])"
      ]
    },
    {
      "cell_type": "markdown",
      "metadata": {
        "id": "6uzY-jdVN7JP"
      },
      "source": [
        "Visualizando os dados"
      ]
    },
    {
      "cell_type": "code",
      "execution_count": null,
      "metadata": {
        "colab": {
          "base_uri": "https://localhost:8080/"
        },
        "id": "6yAlRY8zN7JP",
        "outputId": "c183516f-f0b1-46aa-92e8-dcf666fe0b97"
      },
      "outputs": [
        {
          "name": "stdout",
          "output_type": "stream",
          "text": [
            "Model: \"sequential_4\"\n",
            "_________________________________________________________________\n",
            " Layer (type)                Output Shape              Param #   \n",
            "=================================================================\n",
            " embedding_4 (Embedding)     (None, 280, 16)           1600000   \n",
            "                                                                 \n",
            " bidirectional_2 (Bidirecti  (None, 280, 128)          41472     \n",
            " onal)                                                           \n",
            "                                                                 \n",
            " bidirectional_3 (Bidirecti  (None, 128)               98816     \n",
            " onal)                                                           \n",
            "                                                                 \n",
            " dense_8 (Dense)             (None, 32)                4128      \n",
            "                                                                 \n",
            " dense_9 (Dense)             (None, 1)                 33        \n",
            "                                                                 \n",
            "=================================================================\n",
            "Total params: 1744449 (6.65 MB)\n",
            "Trainable params: 1744449 (6.65 MB)\n",
            "Non-trainable params: 0 (0.00 Byte)\n",
            "_________________________________________________________________\n"
          ]
        }
      ],
      "source": [
        "model_LSTM2.summary()"
      ]
    },
    {
      "cell_type": "markdown",
      "metadata": {
        "id": "UQ5kZxmNN7JQ"
      },
      "source": [
        "Treinamento do modelo"
      ]
    },
    {
      "cell_type": "code",
      "execution_count": null,
      "metadata": {
        "colab": {
          "background_save": true,
          "base_uri": "https://localhost:8080/"
        },
        "id": "OygBl-eUN7JR",
        "outputId": "46ebbece-d092-414d-99cb-de67e1908bc6"
      },
      "outputs": [
        {
          "name": "stdout",
          "output_type": "stream",
          "text": [
            "Epoch 1/5\n",
            "542/542 - 193s - loss: 0.6933 - accuracy: 0.5092 - val_loss: 0.6915 - val_accuracy: 0.5197 - 193s/epoch - 356ms/step\n",
            "Epoch 2/5\n",
            "542/542 - 183s - loss: 0.6037 - accuracy: 0.6660 - val_loss: 0.5413 - val_accuracy: 0.7340 - 183s/epoch - 338ms/step\n",
            "Epoch 3/5\n",
            "542/542 - 183s - loss: 0.3819 - accuracy: 0.8384 - val_loss: 0.4399 - val_accuracy: 0.8289 - 183s/epoch - 339ms/step\n",
            "Epoch 4/5\n",
            "542/542 - 183s - loss: 0.2830 - accuracy: 0.8928 - val_loss: 0.3950 - val_accuracy: 0.8347 - 183s/epoch - 338ms/step\n",
            "Epoch 5/5\n",
            "542/542 - 183s - loss: 0.2211 - accuracy: 0.9164 - val_loss: 0.4097 - val_accuracy: 0.8386 - 183s/epoch - 337ms/step\n"
          ]
        }
      ],
      "source": [
        "epochs = 5\n",
        "history = model_LSTM2.fit(X_train, y_train, epochs=epochs, validation_data=(X_val, y_val), verbose=2)"
      ]
    },
    {
      "cell_type": "markdown",
      "metadata": {
        "id": "7OMClJXxN7JS"
      },
      "source": [
        "Plotando as curvas de loss"
      ]
    },
    {
      "cell_type": "code",
      "execution_count": null,
      "metadata": {
        "colab": {
          "background_save": true
        },
        "id": "0B78b8AvN7JT",
        "outputId": "9c232c81-03a5-4fac-9b6f-10332a0a5341"
      },
      "outputs": [
        {
          "data": {
            "image/png": "[encoded data removed]",
            "text/plain": [
              "<Figure size 800x600 with 1 Axes>"
            ]
          },
          "metadata": {},
          "output_type": "display_data"
        }
      ],
      "source": [
        "plt.figure(figsize=(8, 6))\n",
        "plt.plot(history.history['loss'], label='Training Loss')\n",
        "plt.plot(history.history['val_loss'], label='Validation Loss')\n",
        "plt.title('Training and Validation Losses')\n",
        "plt.xlabel('Epoch')\n",
        "plt.ylabel('Loss')\n",
        "plt.legend()\n",
        "plt.show()"
      ]
    },
    {
      "cell_type": "markdown",
      "metadata": {
        "id": "VQoPUzR0N7JT"
      },
      "source": [
        "### Avaliação do modelo"
      ]
    },
    {
      "cell_type": "markdown",
      "metadata": {
        "id": "tCWVedddN7JV"
      },
      "source": [
        "Avaliar o modelo nos dados de teste\n"
      ]
    },
    {
      "cell_type": "code",
      "execution_count": null,
      "metadata": {
        "colab": {
          "background_save": true
        },
        "id": "rgqgV1wmN7JV",
        "outputId": "1cc28126-8e8c-47c4-8610-675ecd8298e3"
      },
      "outputs": [
        {
          "name": "stdout",
          "output_type": "stream",
          "text": [
            "675/675 - 51s - loss: 0.4320 - accuracy: 0.8364 - 51s/epoch - 75ms/step\n",
            "Perda nos dados de teste: 0.4320\n",
            "Acurácia nos dados de teste: 0.8364\n"
          ]
        }
      ],
      "source": [
        "loss, accuracy = model_LSTM2.evaluate(padded_sequences_test, y_test, verbose=2)\n",
        "print(f\"Perda nos dados de teste: {loss:.4f}\")\n",
        "print(f\"Acurácia nos dados de teste: {accuracy:.4f}\")"
      ]
    },
    {
      "cell_type": "markdown",
      "metadata": {
        "id": "_--XdyUWN7JW"
      },
      "source": [
        "Gerando o relatório de classificação"
      ]
    },
    {
      "cell_type": "code",
      "execution_count": null,
      "metadata": {
        "colab": {
          "background_save": true
        },
        "id": "mm5xSNsdN7JW",
        "outputId": "85103cd7-d5f7-4ace-f101-66770802e7bd"
      },
      "outputs": [
        {
          "name": "stdout",
          "output_type": "stream",
          "text": [
            "675/675 [==============================] - 55s 79ms/step\n"
          ]
        }
      ],
      "source": [
        "y_pred = (model_LSTM2.predict(padded_sequences_test) > 0.5).astype(\"int32\")\n",
        "\n",
        "report = classification_report(y_test, y_pred, target_names=encoder.classes_, output_dict=True)"
      ]
    },
    {
      "cell_type": "markdown",
      "metadata": {
        "id": "XDZPcQLGN7JW"
      },
      "source": [
        "Plotando os resultados"
      ]
    },
    {
      "cell_type": "code",
      "execution_count": null,
      "metadata": {
        "colab": {
          "background_save": true
        },
        "id": "6QuyjzkcN7JX",
        "outputId": "4f2ea5ab-55e8-481b-e486-23e3b03bde65"
      },
      "outputs": [
        {
          "name": "stdout",
          "output_type": "stream",
          "text": [
            "Classificação Report:\n",
            "Class: 0\n",
            "\tPrecision: 0.8190915419422207\n",
            "\tRecall: 0.8662004232998988\n",
            "\tF1-score: 0.8419875665280201\n",
            "Class: 1\n",
            "\tPrecision: 0.8561535417491096\n",
            "\tRecall: 0.8062983322463431\n",
            "\tF1-score: 0.8304783839547046\n",
            "Class: macro avg\n",
            "\tPrecision: 0.8376225418456651\n",
            "\tRecall: 0.8362493777731209\n",
            "\tF1-score: 0.8362329752413624\n",
            "Class: weighted avg\n",
            "\tPrecision: 0.8375075810129309\n",
            "\tRecall: 0.8364351851851852\n",
            "\tF1-score: 0.8362686750206406\n",
            "Macro Avg: {'precision': 0.8376225418456651, 'recall': 0.8362493777731209, 'f1-score': 0.8362329752413624, 'support': 21600}\n",
            "Weighted Avg: {'precision': 0.8375075810129309, 'recall': 0.8364351851851852, 'f1-score': 0.8362686750206406, 'support': 21600}\n"
          ]
        }
      ],
      "source": [
        "print(\"Classificação Report:\")\n",
        "for label, metrics in report.items():\n",
        "    if label == 'accuracy':\n",
        "        continue\n",
        "    print(f\"Class: {label}\")\n",
        "    print(f\"\\tPrecision: {metrics['precision']}\")\n",
        "    print(f\"\\tRecall: {metrics['recall']}\")\n",
        "    print(f\"\\tF1-score: {metrics['f1-score']}\")\n",
        "print(f\"Macro Avg: {report['macro avg']}\")\n",
        "print(f\"Weighted Avg: {report['weighted avg']}\")"
      ]
    },
    {
      "cell_type": "markdown",
      "metadata": {
        "id": "tR4DZEjJN7JX"
      },
      "source": [
        "Plotando a matriz de confusão"
      ]
    },
    {
      "cell_type": "code",
      "execution_count": null,
      "metadata": {
        "colab": {
          "background_save": true
        },
        "id": "FlJ2LM4PN7JY",
        "outputId": "c9369ea2-bb91-4a1d-d16d-ca4a06a4439a"
      },
      "outputs": [
        {
          "data": {
            "image/png": "[encoded data removed]",
            "text/plain": [
              "<Figure size 600x600 with 2 Axes>"
            ]
          },
          "metadata": {},
          "output_type": "display_data"
        }
      ],
      "source": [
        "cm = confusion_matrix(y_test, y_pred)\n",
        "plt.figure(figsize=(6, 6))\n",
        "sns.heatmap(cm, annot=True, fmt='d', cmap='Blues')\n",
        "plt.xlabel('Predicted')\n",
        "plt.ylabel('Actual')\n",
        "plt.title('Confusion Matrix')\n",
        "plt.show()"
      ]
    },
    {
      "cell_type": "markdown",
      "metadata": {
        "id": "xyKZr8OyN7JY"
      },
      "source": [
        "Previsões do modelo"
      ]
    },
    {
      "cell_type": "markdown",
      "metadata": {
        "id": "J2937LJzwMIc"
      },
      "source": [
        "# Faça o mesmo processamento utilizando redes recorrentes bi-direcionais e profundas"
      ]
    },
    {
      "cell_type": "markdown",
      "metadata": {
        "id": "YjqWAB8btnDT"
      },
      "source": [
        "Pelo menos quatro camadas de GRU/LSTM bi-direcionais (ou não)"
      ]
    },
    {
      "cell_type": "code",
      "execution_count": null,
      "metadata": {
        "colab": {
          "background_save": true
        },
        "id": "X1UCRhPUOkeU"
      },
      "outputs": [],
      "source": [
        "embedding_dim = 16\n",
        "\n",
        "model_deep = Sequential([\n",
        "    Embedding(vocab_size, embedding_dim, input_length=max_length),\n",
        "    Bidirectional(GRU(64, return_sequences=True, trainable = True)),\n",
        "    Bidirectional(LSTM(64, return_sequences=True, trainable = True)),\n",
        "    Bidirectional(LSTM(64, return_sequences=True, trainable = True)),\n",
        "    Bidirectional(LSTM(64, trainable = True)),\n",
        "    Dense(32, activation='relu', trainable = True),\n",
        "    Dense(1, activation='sigmoid')\n",
        "])"
      ]
    },
    {
      "cell_type": "markdown",
      "metadata": {
        "id": "LwbLqL4qOkeW"
      },
      "source": [
        "Compilação do modelo"
      ]
    },
    {
      "cell_type": "code",
      "execution_count": null,
      "metadata": {
        "colab": {
          "background_save": true
        },
        "id": "iAYegqhqOkeW"
      },
      "outputs": [],
      "source": [
        "model_deep.compile(loss='binary_crossentropy', optimizer='adam', metrics=['accuracy'])"
      ]
    },
    {
      "cell_type": "markdown",
      "metadata": {
        "id": "iJFs9GPjOkeX"
      },
      "source": [
        "Visualizando os dados"
      ]
    },
    {
      "cell_type": "code",
      "execution_count": null,
      "metadata": {
        "colab": {
          "background_save": true
        },
        "id": "G8MbgBloOkeX",
        "outputId": "9bf210a5-dbae-4c44-fe82-baf4bc42e162"
      },
      "outputs": [
        {
          "name": "stdout",
          "output_type": "stream",
          "text": [
            "Model: \"sequential_5\"\n",
            "_________________________________________________________________\n",
            " Layer (type)                Output Shape              Param #   \n",
            "=================================================================\n",
            " embedding_5 (Embedding)     (None, 280, 16)           1600000   \n",
            "                                                                 \n",
            " bidirectional_4 (Bidirecti  (None, 280, 128)          31488     \n",
            " onal)                                                           \n",
            "                                                                 \n",
            " bidirectional_5 (Bidirecti  (None, 280, 128)          98816     \n",
            " onal)                                                           \n",
            "                                                                 \n",
            " bidirectional_6 (Bidirecti  (None, 280, 128)          98816     \n",
            " onal)                                                           \n",
            "                                                                 \n",
            " bidirectional_7 (Bidirecti  (None, 128)               98816     \n",
            " onal)                                                           \n",
            "                                                                 \n",
            " dense_10 (Dense)            (None, 32)                4128      \n",
            "                                                                 \n",
            " dense_11 (Dense)            (None, 1)                 33        \n",
            "                                                                 \n",
            "=================================================================\n",
            "Total params: 1932097 (7.37 MB)\n",
            "Trainable params: 1932097 (7.37 MB)\n",
            "Non-trainable params: 0 (0.00 Byte)\n",
            "_________________________________________________________________\n"
          ]
        }
      ],
      "source": [
        "model_deep.summary()"
      ]
    },
    {
      "cell_type": "markdown",
      "metadata": {
        "id": "srreR5n_OkeY"
      },
      "source": [
        "Treinamento do modelo"
      ]
    },
    {
      "cell_type": "code",
      "execution_count": null,
      "metadata": {
        "colab": {
          "background_save": true
        },
        "id": "vMzD4u8pOkeZ",
        "outputId": "a6c06fef-6b8b-4a07-9432-2eefdc7297f1"
      },
      "outputs": [
        {
          "name": "stdout",
          "output_type": "stream",
          "text": [
            "Epoch 1/5\n",
            "542/542 - 415s - loss: 0.6934 - accuracy: 0.5077 - val_loss: 0.6929 - val_accuracy: 0.5098 - 415s/epoch - 766ms/step\n",
            "Epoch 2/5\n",
            "542/542 - 399s - loss: 0.5916 - accuracy: 0.6715 - val_loss: 0.4836 - val_accuracy: 0.7691 - 399s/epoch - 737ms/step\n",
            "Epoch 3/5\n",
            "542/542 - 401s - loss: 0.3358 - accuracy: 0.8603 - val_loss: 0.3471 - val_accuracy: 0.8460 - 401s/epoch - 739ms/step\n",
            "Epoch 4/5\n",
            "542/542 - 401s - loss: 0.2274 - accuracy: 0.9117 - val_loss: 0.3385 - val_accuracy: 0.8559 - 401s/epoch - 740ms/step\n",
            "Epoch 5/5\n",
            "542/542 - 403s - loss: 0.1810 - accuracy: 0.9314 - val_loss: 0.3676 - val_accuracy: 0.8628 - 403s/epoch - 743ms/step\n"
          ]
        }
      ],
      "source": [
        "epochs = 5\n",
        "history = model_deep.fit(X_train, y_train, epochs=epochs, validation_data=(X_val, y_val), verbose=2)"
      ]
    },
    {
      "cell_type": "markdown",
      "metadata": {
        "id": "xvVUiHjUOkeZ"
      },
      "source": [
        "Plotando as curvas de loss"
      ]
    },
    {
      "cell_type": "code",
      "execution_count": null,
      "metadata": {
        "colab": {
          "background_save": true
        },
        "id": "6Lr2pVY_Okea",
        "outputId": "7908de86-883a-4859-9010-e4df20029d1a"
      },
      "outputs": [
        {
          "data": {
            "image/png": "[encoded data removed]",
            "text/plain": [
              "<Figure size 800x600 with 1 Axes>"
            ]
          },
          "metadata": {},
          "output_type": "display_data"
        }
      ],
      "source": [
        "plt.figure(figsize=(8, 6))\n",
        "plt.plot(history.history['loss'], label='Training Loss')\n",
        "plt.plot(history.history['val_loss'], label='Validation Loss')\n",
        "plt.title('Training and Validation Losses')\n",
        "plt.xlabel('Epoch')\n",
        "plt.ylabel('Loss')\n",
        "plt.legend()\n",
        "plt.show()"
      ]
    },
    {
      "cell_type": "markdown",
      "metadata": {
        "id": "N-Br18AfOkeb"
      },
      "source": [
        "### Avaliação do modelo"
      ]
    },
    {
      "cell_type": "markdown",
      "metadata": {
        "id": "sh7krywdOkeb"
      },
      "source": [
        "Avaliar o modelo nos dados de teste\n"
      ]
    },
    {
      "cell_type": "code",
      "execution_count": null,
      "metadata": {
        "colab": {
          "background_save": true
        },
        "id": "A4VOWLYGOkeb",
        "outputId": "1976ae94-f728-4fbb-85e5-260bd1835bb4"
      },
      "outputs": [
        {
          "name": "stdout",
          "output_type": "stream",
          "text": [
            "675/675 - 118s - loss: 0.3822 - accuracy: 0.8661 - 118s/epoch - 174ms/step\n",
            "Perda nos dados de teste: 0.3822\n",
            "Acurácia nos dados de teste: 0.8661\n"
          ]
        }
      ],
      "source": [
        "loss, accuracy = model_deep.evaluate(padded_sequences_test, y_test, verbose=2)\n",
        "print(f\"Perda nos dados de teste: {loss:.4f}\")\n",
        "print(f\"Acurácia nos dados de teste: {accuracy:.4f}\")"
      ]
    },
    {
      "cell_type": "markdown",
      "metadata": {
        "id": "if3SkoPJOkec"
      },
      "source": [
        "Gerando o relatório de classificação"
      ]
    },
    {
      "cell_type": "code",
      "execution_count": null,
      "metadata": {
        "colab": {
          "background_save": true
        },
        "id": "M8OxVH_5Okec",
        "outputId": "72f43d1c-55fd-4849-8ae9-1134ea6a9385"
      },
      "outputs": [
        {
          "name": "stdout",
          "output_type": "stream",
          "text": [
            "675/675 [==============================] - 118s 172ms/step\n"
          ]
        }
      ],
      "source": [
        "y_pred = (model_deep.predict(padded_sequences_test) > 0.5).astype(\"int32\")\n",
        "\n",
        "report = classification_report(y_test, y_pred, target_names=encoder.classes_, output_dict=True)"
      ]
    },
    {
      "cell_type": "markdown",
      "metadata": {
        "id": "r6rLcsqjOkec"
      },
      "source": [
        "Plotando os resultados"
      ]
    },
    {
      "cell_type": "code",
      "execution_count": null,
      "metadata": {
        "colab": {
          "background_save": true
        },
        "id": "dBY3kbz2Oked",
        "outputId": "8d9ed146-88f0-4bc8-c9e2-05d6b341c58c"
      },
      "outputs": [
        {
          "name": "stdout",
          "output_type": "stream",
          "text": [
            "Classificação Report:\n",
            "Class: 0\n",
            "\tPrecision: 0.8456271127676173\n",
            "\tRecall: 0.8977638722738567\n",
            "\tF1-score: 0.8709159078735941\n",
            "Class: 1\n",
            "\tPrecision: 0.889595548047302\n",
            "\tRecall: 0.8340631696636541\n",
            "\tF1-score: 0.860934795152914\n",
            "Class: macro avg\n",
            "\tPrecision: 0.8676113304074596\n",
            "\tRecall: 0.8659135209687554\n",
            "\tF1-score: 0.8659253515132541\n",
            "Class: weighted avg\n",
            "\tPrecision: 0.8674749468350644\n",
            "\tRecall: 0.8661111111111112\n",
            "\tF1-score: 0.8659563114462302\n",
            "Macro Avg: {'precision': 0.8676113304074596, 'recall': 0.8659135209687554, 'f1-score': 0.8659253515132541, 'support': 21600}\n",
            "Weighted Avg: {'precision': 0.8674749468350644, 'recall': 0.8661111111111112, 'f1-score': 0.8659563114462302, 'support': 21600}\n"
          ]
        }
      ],
      "source": [
        "print(\"Classificação Report:\")\n",
        "for label, metrics in report.items():\n",
        "    if label == 'accuracy':\n",
        "        continue\n",
        "    print(f\"Class: {label}\")\n",
        "    print(f\"\\tPrecision: {metrics['precision']}\")\n",
        "    print(f\"\\tRecall: {metrics['recall']}\")\n",
        "    print(f\"\\tF1-score: {metrics['f1-score']}\")\n",
        "print(f\"Macro Avg: {report['macro avg']}\")\n",
        "print(f\"Weighted Avg: {report['weighted avg']}\")"
      ]
    },
    {
      "cell_type": "markdown",
      "metadata": {
        "id": "4Fxenk4sOked"
      },
      "source": [
        "Plotando a matriz de confusão"
      ]
    },
    {
      "cell_type": "code",
      "execution_count": null,
      "metadata": {
        "colab": {
          "background_save": true
        },
        "id": "PeU2DRDKOked",
        "outputId": "e841bb3e-04b1-42fd-b16e-5a623e1d5e60"
      },
      "outputs": [
        {
          "data": {
            "image/png": "[encoded data removed]",
            "text/plain": [
              "<Figure size 600x600 with 2 Axes>"
            ]
          },
          "metadata": {},
          "output_type": "display_data"
        }
      ],
      "source": [
        "cm = confusion_matrix(y_test, y_pred)\n",
        "plt.figure(figsize=(6, 6))\n",
        "sns.heatmap(cm, annot=True, fmt='d', cmap='Blues')\n",
        "plt.xlabel('Predicted')\n",
        "plt.ylabel('Actual')\n",
        "plt.title('Confusion Matrix')\n",
        "plt.show()"
      ]
    }
  ],
  "metadata": {
    "colab": {
      "provenance": []
    },
    "kernelspec": {
      "display_name": "Python 3",
      "name": "python3"
    }
  },
  "nbformat": 4,
  "nbformat_minor": 0
}